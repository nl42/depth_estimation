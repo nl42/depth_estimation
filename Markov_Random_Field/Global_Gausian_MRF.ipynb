{
 "cells": [
  {
   "cell_type": "code",
   "execution_count": 1,
   "metadata": {
    "ExecuteTime": {
     "end_time": "2020-04-14T14:40:36.543063Z",
     "start_time": "2020-04-14T14:40:36.102307Z"
    }
   },
   "outputs": [
    {
     "data": {
      "text/html": [
       "<style>.container{max-width:80%!important;width:auto!important;}</style>"
      ],
      "text/plain": [
       "<IPython.core.display.HTML object>"
      ]
     },
     "metadata": {},
     "output_type": "display_data"
    }
   ],
   "source": [
    "from IPython.core.display import display, HTML\n",
    "display(HTML(\"<style>.container{max-width:80%!important;width:auto!important;}</style>\"))\n",
    "\n",
    "from IPython.core.interactiveshell import InteractiveShell\n",
    "InteractiveShell.ast_node_interactivity = \"all\"\n",
    "\n",
    "%reload_ext autoreload\n",
    "%autoreload 2\n",
    "%matplotlib inline\n",
    "\n",
    "import cv2\n",
    "\n",
    "import numpy as np\n",
    "\n",
    "import sys\n",
    "sys.path.append('../')\n",
    "\n",
    "from depth_Functions import (\n",
    "    import_raw_colour_image, \n",
    "    show_img, \n",
    "    show_array_of_images\n",
    ")\n",
    "    \n",
    "from Feature_Extraction import (\n",
    "    process_patches, \n",
    "    create_local_feature_vector\n",
    ")"
   ]
  },
  {
   "cell_type": "markdown",
   "metadata": {},
   "source": [
    "# [Equation](https://www.cs.cornell.edu/~asaxena/learningdepth/ijcv_monocular3dreconstruction.pdf)"
   ]
  },
  {
   "cell_type": "markdown",
   "metadata": {},
   "source": [
    "## Templates"
   ]
  },
  {
   "cell_type": "markdown",
   "metadata": {},
   "source": [
    "Store variables for use in depicting equations"
   ]
  },
  {
   "cell_type": "code",
   "execution_count": 2,
   "metadata": {
    "ExecuteTime": {
     "end_time": "2020-04-14T14:40:51.436272Z",
     "start_time": "2020-04-14T14:40:51.423785Z"
    }
   },
   "outputs": [],
   "source": [
    "def symbol(symbol):\n",
    "    return f'${symbol}$'"
   ]
  },
  {
   "cell_type": "code",
   "execution_count": 3,
   "metadata": {
    "ExecuteTime": {
     "end_time": "2020-04-14T14:40:51.639423Z",
     "start_time": "2020-04-14T14:40:51.579222Z"
    }
   },
   "outputs": [],
   "source": [
    "def equation(maths):\n",
    "    return f'$${maths}$$'"
   ]
  },
  {
   "cell_type": "code",
   "execution_count": 4,
   "metadata": {
    "ExecuteTime": {
     "end_time": "2020-04-14T14:40:51.744244Z",
     "start_time": "2020-04-14T14:40:51.732169Z"
    }
   },
   "outputs": [],
   "source": [
    "V_feat = '\\overline{f}_i'"
   ]
  },
  {
   "cell_type": "code",
   "execution_count": 5,
   "metadata": {
    "ExecuteTime": {
     "end_time": "2020-04-14T14:40:51.880615Z",
     "start_time": "2020-04-14T14:40:51.867253Z"
    }
   },
   "outputs": [],
   "source": [
    "V_theta = '\\overline{\\theta}_y'"
   ]
  },
  {
   "cell_type": "code",
   "execution_count": 6,
   "metadata": {
    "ExecuteTime": {
     "end_time": "2020-04-14T14:40:52.016772Z",
     "start_time": "2020-04-14T14:40:52.003976Z"
    }
   },
   "outputs": [],
   "source": [
    "V_rel = 'y_{ijs}'"
   ]
  },
  {
   "cell_type": "code",
   "execution_count": 7,
   "metadata": {
    "ExecuteTime": {
     "end_time": "2020-04-14T14:40:52.287124Z",
     "start_time": "2020-04-14T14:40:52.261736Z"
    }
   },
   "outputs": [],
   "source": [
    "V_v = '\\overline{v}_y'"
   ]
  },
  {
   "cell_type": "code",
   "execution_count": 8,
   "metadata": {
    "ExecuteTime": {
     "end_time": "2020-04-14T14:40:52.536868Z",
     "start_time": "2020-04-14T14:40:52.513722Z"
    }
   },
   "outputs": [],
   "source": [
    "V_u = '\\overline{u}_{ys}'"
   ]
  },
  {
   "cell_type": "code",
   "execution_count": 9,
   "metadata": {
    "ExecuteTime": {
     "end_time": "2020-04-14T14:40:52.681297Z",
     "start_time": "2020-04-14T14:40:52.665563Z"
    }
   },
   "outputs": [],
   "source": [
    "V_s1 = '\\sigma_y'"
   ]
  },
  {
   "cell_type": "code",
   "execution_count": 10,
   "metadata": {
    "ExecuteTime": {
     "end_time": "2020-04-14T14:40:52.880059Z",
     "start_time": "2020-04-14T14:40:52.851779Z"
    }
   },
   "outputs": [],
   "source": [
    "V_s2 = '\\sigma_{ys}'"
   ]
  },
  {
   "cell_type": "code",
   "execution_count": 11,
   "metadata": {
    "ExecuteTime": {
     "end_time": "2020-04-14T14:40:53.147662Z",
     "start_time": "2020-04-14T14:40:53.120526Z"
    }
   },
   "outputs": [],
   "source": [
    "S_patch = \"\\sum_\\limits{y=0}^Y\\sum_\\limits{x=0}^X\""
   ]
  },
  {
   "cell_type": "code",
   "execution_count": 12,
   "metadata": {
    "ExecuteTime": {
     "end_time": "2020-04-14T14:40:53.509046Z",
     "start_time": "2020-04-14T14:40:53.481058Z"
    }
   },
   "outputs": [],
   "source": [
    "S_adj = \"\\sum_\\limits{j}^4\" "
   ]
  },
  {
   "cell_type": "code",
   "execution_count": 13,
   "metadata": {
    "ExecuteTime": {
     "end_time": "2020-04-14T14:40:53.871602Z",
     "start_time": "2020-04-14T14:40:53.844736Z"
    }
   },
   "outputs": [],
   "source": [
    "S_scale = \"\\sum_\\limits{s=1}^3\""
   ]
  },
  {
   "cell_type": "code",
   "execution_count": 14,
   "metadata": {
    "ExecuteTime": {
     "end_time": "2020-04-14T14:40:54.235695Z",
     "start_time": "2020-04-14T14:40:54.208999Z"
    }
   },
   "outputs": [],
   "source": [
    "E_pred = f'{V_feat}{V_theta}'"
   ]
  },
  {
   "cell_type": "code",
   "execution_count": 15,
   "metadata": {
    "ExecuteTime": {
     "end_time": "2020-04-14T14:40:54.618638Z",
     "start_time": "2020-04-14T14:40:54.593177Z"
    }
   },
   "outputs": [],
   "source": [
    "E_local = f'\\left( d_i - {E_pred} \\right)^2'"
   ]
  },
  {
   "cell_type": "code",
   "execution_count": 28,
   "metadata": {
    "ExecuteTime": {
     "end_time": "2020-04-14T15:00:26.149073Z",
     "start_time": "2020-04-14T15:00:26.130498Z"
    }
   },
   "outputs": [],
   "source": [
    "E_global = '\\left( d_i(s) - d_j(s) \\right)^2'"
   ]
  },
  {
   "cell_type": "code",
   "execution_count": 16,
   "metadata": {
    "ExecuteTime": {
     "end_time": "2020-04-14T14:40:54.922920Z",
     "start_time": "2020-04-14T14:40:54.910856Z"
    }
   },
   "outputs": [],
   "source": [
    "E_s1 = f'{V_v}{V_feat}'"
   ]
  },
  {
   "cell_type": "code",
   "execution_count": 17,
   "metadata": {
    "ExecuteTime": {
     "end_time": "2020-04-14T14:40:55.266040Z",
     "start_time": "2020-04-14T14:40:55.249085Z"
    }
   },
   "outputs": [],
   "source": [
    "E_s2 = f'{V_u}|{V_rel}|'"
   ]
  },
  {
   "cell_type": "code",
   "execution_count": 32,
   "metadata": {
    "ExecuteTime": {
     "end_time": "2020-04-14T15:01:55.042718Z",
     "start_time": "2020-04-14T15:01:55.024015Z"
    }
   },
   "outputs": [],
   "source": [
    "E_e1 = f'-{S_patch}\\dfrac{{{E_local}}}{{2{V_s1}^2}}'"
   ]
  },
  {
   "cell_type": "code",
   "execution_count": 33,
   "metadata": {
    "ExecuteTime": {
     "end_time": "2020-04-14T15:01:55.601234Z",
     "start_time": "2020-04-14T15:01:55.571331Z"
    }
   },
   "outputs": [],
   "source": [
    "E_e2 = f'-{S_scale}{S_patch}{S_adj}\\dfrac{{{E_global}}}{{2{V_s2}^2}}'"
   ]
  },
  {
   "cell_type": "code",
   "execution_count": 37,
   "metadata": {
    "ExecuteTime": {
     "end_time": "2020-04-14T15:06:16.327472Z",
     "start_time": "2020-04-14T15:06:16.312521Z"
    }
   },
   "outputs": [],
   "source": [
    "E_gaus = f'\\dfrac{{1}}{{Z}}e^\\left( {E_e1} {E_e2} \\right)'"
   ]
  },
  {
   "cell_type": "markdown",
   "metadata": {},
   "source": [
    "## Gaussian"
   ]
  },
  {
   "cell_type": "markdown",
   "metadata": {
    "variables": {
     "equation(f'P(d|X;\\theta,\\sigma) = {E_gaus}')": "$$P(d|X;\\theta,\\sigma) = \\dfrac{1}{Z}e^\\left( -\\sum_\\limits{y=0}^Y\\sum_\\limits{x=0}^X\\dfrac{\\left( d_i - \\overline{f}_i\\overline{\\theta}_y \\right)^2}{2\\sigma_y^2} -\\sum_\\limits{s=1}^3\\sum_\\limits{y=0}^Y\\sum_\\limits{x=0}^X\\sum_\\limits{j}^4\\dfrac{\\left( d_i(s) - d_j(s) \\right)^2}{2\\sigma_{ys}^2} \\right)$$"
    }
   },
   "source": [
    "{{equation(f'P(d|X;\\theta,\\sigma) = {E_gaus}')}}"
   ]
  },
  {
   "cell_type": "markdown",
   "metadata": {},
   "source": [
    "### Local accuracy"
   ]
  },
  {
   "cell_type": "markdown",
   "metadata": {
    "variables": {
     "equation(S_patch+E_local)": "$$\\sum_\\limits{y=0}^Y\\sum_\\limits{x=0}^X\\left( d_i - \\overline{f}_i\\overline{\\theta}_y \\right)^2$$"
    }
   },
   "source": [
    "{{equation(S_patch+E_local)}}"
   ]
  },
  {
   "cell_type": "markdown",
   "metadata": {},
   "source": [
    "Y = the number of vertical patches"
   ]
  },
  {
   "cell_type": "markdown",
   "metadata": {},
   "source": [
    "X = the number of horizontal"
   ]
  },
  {
   "cell_type": "markdown",
   "metadata": {},
   "source": [
    "$d_i$ = the depth at patch i"
   ]
  },
  {
   "cell_type": "markdown",
   "metadata": {
    "variables": {
     "symbol(V_theta)": "$\\overline{\\theta}_y$"
    }
   },
   "source": [
    "{{symbol(V_theta)}} = $\\theta$ vector at row y"
   ]
  },
  {
   "cell_type": "markdown",
   "metadata": {},
   "source": [
    "### Smoothing"
   ]
  },
  {
   "cell_type": "markdown",
   "metadata": {},
   "source": [
    "To help smooth the model we take away the sum difference between the current patch and its neighbours at each scale"
   ]
  },
  {
   "cell_type": "markdown",
   "metadata": {
    "variables": {
     "equation(S_scale+S_patch+S_adj+E_relative)": "$$\\sum_\\limits{s=1}^3\\sum_\\limits{y=0}^Y\\sum_\\limits{x=0}^X\\sum_\\limits{j}^4\\left( d_i(s) - d_j(s) \\right)^2$$"
    }
   },
   "source": [
    "{{equation(S_scale+S_patch+S_adj+E_relative)}}"
   ]
  },
  {
   "cell_type": "markdown",
   "metadata": {},
   "source": [
    "$d_i(s)$ is the depth of the center patch at of the patch resized to scale s"
   ]
  },
  {
   "cell_type": "markdown",
   "metadata": {},
   "source": [
    "$d_j(s)$ is the depth at the given adjacent patch at scale s"
   ]
  },
  {
   "cell_type": "markdown",
   "metadata": {},
   "source": [
    "# Training"
   ]
  },
  {
   "cell_type": "markdown",
   "metadata": {},
   "source": [
    "Having calculated the features for our training images the goal of training is to calculate $\\theta$s and $\\sigma$s"
   ]
  },
  {
   "cell_type": "markdown",
   "metadata": {},
   "source": [
    "## $\\theta$"
   ]
  },
  {
   "cell_type": "markdown",
   "metadata": {
    "variables": {
     "symbol(V_feat+V_theta)": "$\\overline{f}_i\\overline{\\theta}_y$"
    }
   },
   "source": [
    "To maximise the accuracy of the model we look to decrease the difference between $d_i$ and {{symbol(V_feat+V_theta)}}"
   ]
  },
  {
   "cell_type": "markdown",
   "metadata": {},
   "source": [
    "We do this by calculating the least square of the rearranged equation"
   ]
  },
  {
   "cell_type": "markdown",
   "metadata": {
    "ExecuteTime": {
     "end_time": "2020-04-14T15:39:10.278441Z",
     "start_time": "2020-04-14T15:39:10.262294Z"
    },
    "variables": {
     "equation(f'd_i = {V_theta}{V_feat}')": "$$d_i = \\overline{\\theta}_y\\overline{f}_i$$"
    }
   },
   "source": [
    "{{equation(f'd_i = {V_theta}{V_feat}')}}"
   ]
  },
  {
   "cell_type": "markdown",
   "metadata": {},
   "source": [
    "i.e. x is the feature vector, y is the recored depth, the gradient is $\\theta$"
   ]
  },
  {
   "cell_type": "markdown",
   "metadata": {},
   "source": [
    "### Uncertanties"
   ]
  },
  {
   "cell_type": "markdown",
   "metadata": {},
   "source": [
    "To combine the global and local features, we must encorporate uncertanties for both"
   ]
  },
  {
   "cell_type": "markdown",
   "metadata": {},
   "source": [
    "#### Local uncertanty"
   ]
  },
  {
   "cell_type": "markdown",
   "metadata": {
    "variables": {
     "equation(f'{V_s1}^2={E_s1}')": "$$\\sigma_y^2=\\overline{v}_y\\overline{f}_i$$"
    }
   },
   "source": [
    "{{equation(f'{V_s1}^2={E_s1}')}}"
   ]
  },
  {
   "cell_type": "markdown",
   "metadata": {
    "variables": {
     "symbol(V_v)": "$\\overline{v}_y$"
    }
   },
   "source": [
    "{{symbol(V_v)}} = vector of chosen parameters"
   ]
  },
  {
   "cell_type": "markdown",
   "metadata": {},
   "source": [
    "#### Global uncertainty"
   ]
  },
  {
   "cell_type": "markdown",
   "metadata": {
    "variables": {
     "equation(f'{V_s2}^2={E_s2}')": "$$\\sigma_{ys}^2=\\overline{u}_{ys}|y_{ijs}|$$"
    }
   },
   "source": [
    "{{equation(f'{V_s2}^2={E_s2}')}}"
   ]
  },
  {
   "cell_type": "markdown",
   "metadata": {
    "variables": {
     "symbol(V_u)": "$\\overline{u}_{ys}$"
    }
   },
   "source": [
    "{{symbol(V_u)}} = vector of chosen parameters"
   ]
  },
  {
   "cell_type": "markdown",
   "metadata": {
    "variables": {
     "symbol(V_rel)": "$y_{ijs}$"
    }
   },
   "source": [
    "{{symbol(V_rel)}} = relative depth histogram"
   ]
  }
 ],
 "metadata": {
  "kernelspec": {
   "display_name": "Python 3",
   "language": "python",
   "name": "python3"
  },
  "language_info": {
   "codemirror_mode": {
    "name": "ipython",
    "version": 3
   },
   "file_extension": ".py",
   "mimetype": "text/x-python",
   "name": "python",
   "nbconvert_exporter": "python",
   "pygments_lexer": "ipython3",
   "version": "3.7.6"
  },
  "toc": {
   "base_numbering": 1,
   "nav_menu": {},
   "number_sections": true,
   "sideBar": true,
   "skip_h1_title": false,
   "title_cell": "Table of Contents",
   "title_sidebar": "Contents",
   "toc_cell": false,
   "toc_position": {},
   "toc_section_display": true,
   "toc_window_display": false
  },
  "varInspector": {
   "cols": {
    "lenName": 16,
    "lenType": 16,
    "lenVar": "160"
   },
   "kernels_config": {
    "python": {
     "delete_cmd_postfix": "",
     "delete_cmd_prefix": "del ",
     "library": "var_list.py",
     "varRefreshCmd": "print(var_dic_list())"
    },
    "r": {
     "delete_cmd_postfix": ") ",
     "delete_cmd_prefix": "rm(",
     "library": "var_list.r",
     "varRefreshCmd": "cat(var_dic_list()) "
    }
   },
   "types_to_exclude": [
    "module",
    "function",
    "builtin_function_or_method",
    "instance",
    "_Feature"
   ],
   "window_display": false
  }
 },
 "nbformat": 4,
 "nbformat_minor": 4
}
