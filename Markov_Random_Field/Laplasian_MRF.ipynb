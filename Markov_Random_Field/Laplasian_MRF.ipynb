{
 "cells": [
  {
   "cell_type": "code",
   "execution_count": 143,
   "metadata": {
    "ExecuteTime": {
     "end_time": "2020-04-17T15:01:38.565346Z",
     "start_time": "2020-04-17T15:01:38.444747Z"
    }
   },
   "outputs": [
    {
     "data": {
      "text/html": [
       "<style>.container{max-width:80%!important;width:auto!important;}</style>"
      ],
      "text/plain": [
       "<IPython.core.display.HTML object>"
      ]
     },
     "metadata": {},
     "output_type": "display_data"
    }
   ],
   "source": [
    "from IPython.core.display import display, HTML\n",
    "display(HTML(\"<style>.container{max-width:80%!important;width:auto!important;}</style>\"))\n",
    "\n",
    "from IPython.core.interactiveshell import InteractiveShell\n",
    "InteractiveShell.ast_node_interactivity = \"all\"\n",
    "\n",
    "%reload_ext autoreload\n",
    "%autoreload 2\n",
    "%matplotlib inline\n",
    "\n",
    "import cv2\n",
    "\n",
    "import numpy as np\n",
    "\n",
    "import sys\n",
    "sys.path.append('../')\n",
    "\n",
    "from depth_Functions import (\n",
    "    import_raw_colour_image, \n",
    "    import_raw_depth_image,\n",
    "    show_img, \n",
    "    show_array_of_images\n",
    ")\n",
    "    \n",
    "from Feature_Extraction import (\n",
    "    get_patchsize,\n",
    "    process_patches, \n",
    "    create_local_feature_vector\n",
    ")\n",
    "\n",
    "from Equations import (\n",
    "    symbol,\n",
    "    equation\n",
    ")\n",
    "\n",
    "from Global_Depth import (\n",
    "    get_absolute_and_relative_depth,\n",
    "    get_absolute_depth,\n",
    "    get_relative_histograms,\n",
    "    subtract_adjacent\n",
    ")"
   ]
  },
  {
   "cell_type": "code",
   "execution_count": 83,
   "metadata": {
    "ExecuteTime": {
     "end_time": "2020-04-17T14:10:08.060491Z",
     "start_time": "2020-04-17T14:10:07.966793Z"
    }
   },
   "outputs": [],
   "source": [
    "bgr = import_raw_colour_image('../GTA_images/Simple/Colour/color_1.raw')\n",
    "ycc = cv2.cvtColor(bgr, cv2.COLOR_BGR2YCrCb)\n",
    "depth = import_raw_depth_image('../GTA_images/Simple/Depth/depth_1.raw')"
   ]
  },
  {
   "cell_type": "code",
   "execution_count": 84,
   "metadata": {
    "ExecuteTime": {
     "end_time": "2020-04-17T14:10:08.905389Z",
     "start_time": "2020-04-17T14:10:08.832735Z"
    }
   },
   "outputs": [],
   "source": [
    "image = ycc\n",
    "patchsize = 6\n",
    "scales = [(3,3), (9,9)]"
   ]
  },
  {
   "cell_type": "markdown",
   "metadata": {},
   "source": [
    "# Laplacian"
   ]
  },
  {
   "cell_type": "markdown",
   "metadata": {
    "ExecuteTime": {
     "end_time": "2020-04-17T07:56:40.328587Z",
     "start_time": "2020-04-17T07:56:40.311311Z"
    },
    "variables": {
     "equation('P(d|X;\\theta,\\lambda) = [E_lap]')": "$$P(d|X;\\theta,\\lambda) = \\dfrac{1}{Z}e^\\left(-\\sum_\\limits{y=0}^Y\\sum_\\limits{x=0}^X\\dfrac{| d_i - \\overline{f}_i\\overline{\\theta}_y |}{2\\lambda_{1y}} - \\sum_\\limits{s=1}^3\\sum_\\limits{y=0}^Y\\sum_\\limits{x=0}^X\\sum_\\limits{j}^4\\dfrac{| d_i(s) - d_j(s) |}{2\\lambda_{2ys}} \\right)$$"
    }
   },
   "source": [
    "{{equation('P(d|X;\\theta,\\lambda) = [E_lap]')}}"
   ]
  },
  {
   "cell_type": "markdown",
   "metadata": {},
   "source": [
    "## Absolute depth accuracy"
   ]
  },
  {
   "cell_type": "markdown",
   "metadata": {
    "variables": {
     "equation('[S_patch]+[E_abs]')": "$$\\sum_\\limits{y=0}^Y\\sum_\\limits{x=0}^X+| d_i - \\overline{f}_i\\overline{\\theta}_y |$$"
    }
   },
   "source": [
    "{{equation('[S_patch]+[E_abs]')}}"
   ]
  },
  {
   "cell_type": "markdown",
   "metadata": {},
   "source": [
    "Y = the number of vertical patches"
   ]
  },
  {
   "cell_type": "markdown",
   "metadata": {},
   "source": [
    "X = the number of horizontal"
   ]
  },
  {
   "cell_type": "markdown",
   "metadata": {},
   "source": [
    "$d_i$ = the depth at patch i"
   ]
  },
  {
   "cell_type": "markdown",
   "metadata": {
    "variables": {
     "symbol('[V_theta]')": "$\\overline{\\theta}_y$"
    }
   },
   "source": [
    "{{symbol('[V_theta]')}} = $\\theta$ vector at row y"
   ]
  },
  {
   "cell_type": "markdown",
   "metadata": {},
   "source": [
    "## Relative depth"
   ]
  },
  {
   "cell_type": "markdown",
   "metadata": {},
   "source": [
    "We take relative depth into the consideration with the following equation"
   ]
  },
  {
   "cell_type": "markdown",
   "metadata": {
    "variables": {
     "equation('[S_scale][S_patch][S_adj][E_rel]')": "$$\\sum_\\limits{s=1}^3\\sum_\\limits{y=0}^Y\\sum_\\limits{x=0}^X\\sum_\\limits{j}^4| d_i(s) - d_j(s) |$$"
    }
   },
   "source": [
    "{{equation('[S_scale][S_patch][S_adj][E_rel]')}}"
   ]
  },
  {
   "cell_type": "markdown",
   "metadata": {},
   "source": [
    "$d_i(s)$ is the depth of the center patch at of the patch resized to scale s"
   ]
  },
  {
   "cell_type": "markdown",
   "metadata": {},
   "source": [
    "$d_j(s)$ is the depth at the given adjacent patch at scale s"
   ]
  },
  {
   "cell_type": "markdown",
   "metadata": {},
   "source": [
    "## Training"
   ]
  },
  {
   "cell_type": "markdown",
   "metadata": {},
   "source": [
    "Having calculated the features for our training images the goal of training is to calculate $\\theta$s and $\\sigma$s"
   ]
  },
  {
   "cell_type": "markdown",
   "metadata": {},
   "source": [
    "## $\\theta$"
   ]
  },
  {
   "cell_type": "markdown",
   "metadata": {
    "variables": {
     "symbol('[V_theta]')": "$\\overline{\\theta}_y$"
    }
   },
   "source": [
    "We calculate {{symbol('[V_theta]')}}s minimise the difference between the observed depth and predicted depth"
   ]
  },
  {
   "cell_type": "markdown",
   "metadata": {},
   "source": [
    "We do this by calculating the least squares of the following equation"
   ]
  },
  {
   "cell_type": "markdown",
   "metadata": {
    "variables": {
     "equation(f'd_i = [E_pred]')": "$$d_i = \\overline{f}_i\\overline{\\theta}_y$$"
    }
   },
   "source": [
    "{{equation(f'd_i = [E_pred]')}}"
   ]
  },
  {
   "cell_type": "code",
   "execution_count": null,
   "metadata": {},
   "outputs": [],
   "source": [
    "def least_squares_function(features, *𝜃):\n",
    "    return features @ np.array(𝜃)"
   ]
  },
  {
   "cell_type": "code",
   "execution_count": null,
   "metadata": {},
   "outputs": [],
   "source": [
    "def least_squares(features, depth, 𝜃):\n",
    "    return optimize.curve_fit(least_squares_function, \n",
    "                              xdata=features.reshape(-1, features.shape[-1]), \n",
    "                              ydata=depth.flatten(),\n",
    "                              p0=𝜃)"
   ]
  },
  {
   "cell_type": "markdown",
   "metadata": {},
   "source": [
    "### Uncertanties"
   ]
  },
  {
   "cell_type": "markdown",
   "metadata": {},
   "source": [
    "To combine the absolute and relative we must encorporate uncertanties for both"
   ]
  },
  {
   "cell_type": "code",
   "execution_count": 212,
   "metadata": {
    "ExecuteTime": {
     "end_time": "2020-04-17T16:05:37.315600Z",
     "start_time": "2020-04-17T15:56:52.456477Z"
    }
   },
   "outputs": [
    {
     "data": {
      "application/vnd.jupyter.widget-view+json": {
       "model_id": "",
       "version_major": 2,
       "version_minor": 0
      },
      "text/plain": [
       "HBox(children=(FloatProgress(value=0.0, max=120.0), HTML(value='')))"
      ]
     },
     "metadata": {},
     "output_type": "display_data"
    },
    {
     "data": {
      "application/vnd.jupyter.widget-view+json": {
       "model_id": "dfe48f68daf14660a0849cb6a3859c15",
       "version_major": 2,
       "version_minor": 0
      },
      "text/plain": [
       "HBox(children=(FloatProgress(value=0.0, description='Scales', max=2.0, style=ProgressStyle(description_width='…"
      ]
     },
     "metadata": {},
     "output_type": "display_data"
    },
    {
     "data": {
      "application/vnd.jupyter.widget-view+json": {
       "model_id": "",
       "version_major": 2,
       "version_minor": 0
      },
      "text/plain": [
       "HBox(children=(FloatProgress(value=0.0, description='3x3', max=120.0, style=ProgressStyle(description_width='i…"
      ]
     },
     "metadata": {},
     "output_type": "display_data"
    },
    {
     "data": {
      "application/vnd.jupyter.widget-view+json": {
       "model_id": "",
       "version_major": 2,
       "version_minor": 0
      },
      "text/plain": [
       "HBox(children=(FloatProgress(value=0.0, description='9x9', max=120.0, style=ProgressStyle(description_width='i…"
      ]
     },
     "metadata": {},
     "output_type": "display_data"
    },
    {
     "name": "stdout",
     "output_type": "stream",
     "text": [
      "\n"
     ]
    }
   ],
   "source": [
    "relative_histogram_6x8 = get_relative_histograms(image, 6, scales)"
   ]
  },
  {
   "cell_type": "code",
   "execution_count": 214,
   "metadata": {
    "ExecuteTime": {
     "end_time": "2020-04-17T16:05:48.298788Z",
     "start_time": "2020-04-17T16:05:48.190680Z"
    }
   },
   "outputs": [
    {
     "data": {
      "text/plain": [
       "(120, 160, 4, 17, 10)"
      ]
     },
     "execution_count": 214,
     "metadata": {},
     "output_type": "execute_result"
    },
    {
     "data": {
      "text/plain": [
       "(120, 160, 4, 17, 10)"
      ]
     },
     "execution_count": 214,
     "metadata": {},
     "output_type": "execute_result"
    },
    {
     "data": {
      "text/plain": [
       "(120, 160, 4, 17, 10)"
      ]
     },
     "execution_count": 214,
     "metadata": {},
     "output_type": "execute_result"
    }
   ],
   "source": [
    "relative_histogram_6x8[0].shape\n",
    "relative_histogram_6x8[1].shape\n",
    "relative_histogram_6x8[2].shape"
   ]
  },
  {
   "cell_type": "markdown",
   "metadata": {},
   "source": [
    "#### Absolute uncertanty"
   ]
  },
  {
   "cell_type": "markdown",
   "metadata": {
    "variables": {
     "equation(f'[V_l1]=[E_l1]')": "$$\\lambda_{1y}=\\overline{v}_y\\overline{f}_i$$"
    }
   },
   "source": [
    "{{equation(f'[V_l1]=[E_l1]')}}"
   ]
  },
  {
   "cell_type": "markdown",
   "metadata": {
    "variables": {
     "symbol('[V_v]')": "$\\overline{v}_y$"
    }
   },
   "source": [
    "{{symbol('[V_v]')}} = vector of chosen parameters"
   ]
  },
  {
   "cell_type": "markdown",
   "metadata": {},
   "source": [
    "#### relative uncertainty"
   ]
  },
  {
   "cell_type": "markdown",
   "metadata": {
    "variables": {
     "equation(f'[V_l2]=[E_l2]')": {}
    }
   },
   "source": [
    "{{equation(f'[V_l2]=[E_l2]')}}"
   ]
  },
  {
   "cell_type": "markdown",
   "metadata": {
    "variables": {
     "symbol('[V_u]')": "$\\overline{u}_{ys}$"
    }
   },
   "source": [
    "{{symbol('[V_u]')}} = vector of chosen parameters"
   ]
  },
  {
   "cell_type": "markdown",
   "metadata": {
    "variables": {
     "symbol('[V_hist]')": "$y_{ijs}$"
    }
   },
   "source": [
    "{{symbol('[V_hist]')}} = relative depth histogram"
   ]
  },
  {
   "cell_type": "markdown",
   "metadata": {},
   "source": [
    "[Asshutosh et al](https://www.cs.cornell.edu/~asaxena/learningdepth/ijcv_monocular3dreconstruction.pdf) observed that the relative depth histogram and the difference in depths relationship to one another can be fairly well represented by a lapacian curve"
   ]
  },
  {
   "cell_type": "markdown",
   "metadata": {
    "variables": {
     "symbol('[V_u]')": "$\\overline{u}_{ys}$"
    }
   },
   "source": [
    "We can therefore estimate {{symbol('[V_u]')}} fitting a lapacian graph to fit the following equation"
   ]
  },
  {
   "cell_type": "markdown",
   "metadata": {
    "ExecuteTime": {
     "end_time": "2020-04-17T10:16:20.892932Z",
     "start_time": "2020-04-17T10:16:20.844702Z"
    },
    "variables": {
     "equation('[V_hist] = \\dfrac{1}{[V_u]}e^{[E_rel]}')": "$$y_{ijs} = \\dfrac{1}{\\overline{u}_{ys}}e^{| d_i(s) - d_j(s) |}$$"
    }
   },
   "source": [
    "{{equation('[V_hist] = \\dfrac{1}{[V_u]}e^{[E_rel]}')}}"
   ]
  },
  {
   "cell_type": "code",
   "execution_count": 244,
   "metadata": {
    "ExecuteTime": {
     "end_time": "2020-04-17T16:18:52.121885Z",
     "start_time": "2020-04-17T16:18:49.513755Z"
    }
   },
   "outputs": [
    {
     "data": {
      "image/png": "[encoded data removed]",
      "text/plain": [
       "<Figure size 1152x576 with 3 Axes>"
      ]
     },
     "metadata": {
      "needs_background": "light"
     },
     "output_type": "display_data"
    }
   ],
   "source": [
    "import matplotlib.pyplot as plt\n",
    "\n",
    "_, axis = plt.subplots(3,1,figsize=(16,8))\n",
    "for i in range(len(relative_histogram_6x8)):\n",
    "    axis[i].hist(relative_histogram_6x8[i].reshape(-1,10), 10)\n",
    "    axis[i].set_yscale('log')\n",
    "pass;"
   ]
  },
  {
   "cell_type": "code",
   "execution_count": 190,
   "metadata": {
    "ExecuteTime": {
     "end_time": "2020-04-17T15:26:07.102945Z",
     "start_time": "2020-04-17T15:26:06.661529Z"
    }
   },
   "outputs": [
    {
     "data": {
      "application/vnd.jupyter.widget-view+json": {
       "model_id": "",
       "version_major": 2,
       "version_minor": 0
      },
      "text/plain": [
       "HBox(children=(FloatProgress(value=0.0, max=120.0), HTML(value='')))"
      ]
     },
     "metadata": {},
     "output_type": "display_data"
    }
   ],
   "source": [
    "depth_patches = process_patches(depth, patchsize, function=np.mean)"
   ]
  },
  {
   "cell_type": "code",
   "execution_count": 191,
   "metadata": {
    "ExecuteTime": {
     "end_time": "2020-04-17T15:26:11.032377Z",
     "start_time": "2020-04-17T15:26:09.350263Z"
    }
   },
   "outputs": [
    {
     "data": {
      "application/vnd.jupyter.widget-view+json": {
       "model_id": "",
       "version_major": 2,
       "version_minor": 0
      },
      "text/plain": [
       "HBox(children=(FloatProgress(value=0.0, max=120.0), HTML(value='')))"
      ]
     },
     "metadata": {},
     "output_type": "display_data"
    }
   ],
   "source": [
    "relative_depths = process_patches(depth, patchsize, function=lambda patch : [np.mean(patch) for i in range(5)])"
   ]
  },
  {
   "cell_type": "code",
   "execution_count": 192,
   "metadata": {
    "ExecuteTime": {
     "end_time": "2020-04-17T15:26:13.302988Z",
     "start_time": "2020-04-17T15:26:13.210294Z"
    }
   },
   "outputs": [
    {
     "data": {
      "text/plain": [
       "(120, 160, 5)"
      ]
     },
     "execution_count": 192,
     "metadata": {},
     "output_type": "execute_result"
    }
   ],
   "source": [
    "relative_depths.shape"
   ]
  },
  {
   "cell_type": "code",
   "execution_count": 193,
   "metadata": {
    "ExecuteTime": {
     "end_time": "2020-04-17T15:26:15.598886Z",
     "start_time": "2020-04-17T15:26:15.432177Z"
    }
   },
   "outputs": [],
   "source": [
    "relative_depths = subtract_adjacent(relative_depths)"
   ]
  },
  {
   "cell_type": "code",
   "execution_count": 240,
   "metadata": {
    "ExecuteTime": {
     "end_time": "2020-04-17T16:17:27.960122Z",
     "start_time": "2020-04-17T16:17:27.461119Z"
    }
   },
   "outputs": [
    {
     "data": {
      "image/png": "[encoded data removed]",
      "text/plain": [
       "<Figure size 1152x576 with 1 Axes>"
      ]
     },
     "metadata": {
      "needs_background": "light"
     },
     "output_type": "display_data"
    }
   ],
   "source": [
    "_, axis = plt.subplots(1,1,figsize=(16,8))\n",
    "\n",
    "axis.hist(relative_depths.flatten(), bins=10)\n",
    "axis.set_yscale('log')\n",
    "pass;"
   ]
  },
  {
   "cell_type": "code",
   "execution_count": 221,
   "metadata": {
    "ExecuteTime": {
     "end_time": "2020-04-17T16:10:02.198855Z",
     "start_time": "2020-04-17T16:10:01.936269Z"
    }
   },
   "outputs": [
    {
     "ename": "ValueError",
     "evalue": "x and y must be the same size",
     "output_type": "error",
     "traceback": [
      "\u001b[0;31m---------------------------------------------------------------------------\u001b[0m",
      "\u001b[0;31mValueError\u001b[0m                                Traceback (most recent call last)",
      "\u001b[0;32m<ipython-input-221-e37dfeba06b8>\u001b[0m in \u001b[0;36m<module>\u001b[0;34m\u001b[0m\n\u001b[1;32m      1\u001b[0m \u001b[0m_\u001b[0m\u001b[0;34m,\u001b[0m \u001b[0maxis\u001b[0m \u001b[0;34m=\u001b[0m \u001b[0mplt\u001b[0m\u001b[0;34m.\u001b[0m\u001b[0msubplots\u001b[0m\u001b[0;34m(\u001b[0m\u001b[0;36m1\u001b[0m\u001b[0;34m,\u001b[0m\u001b[0;36m1\u001b[0m\u001b[0;34m,\u001b[0m\u001b[0mfigsize\u001b[0m\u001b[0;34m=\u001b[0m\u001b[0;34m(\u001b[0m\u001b[0;36m16\u001b[0m\u001b[0;34m,\u001b[0m\u001b[0;36m8\u001b[0m\u001b[0;34m)\u001b[0m\u001b[0;34m)\u001b[0m\u001b[0;34m\u001b[0m\u001b[0;34m\u001b[0m\u001b[0m\n\u001b[1;32m      2\u001b[0m \u001b[0;34m\u001b[0m\u001b[0m\n\u001b[0;32m----> 3\u001b[0;31m \u001b[0maxis\u001b[0m\u001b[0;34m.\u001b[0m\u001b[0mscatter\u001b[0m\u001b[0;34m(\u001b[0m\u001b[0mrelative_depths\u001b[0m\u001b[0;34m.\u001b[0m\u001b[0mflatten\u001b[0m\u001b[0;34m(\u001b[0m\u001b[0;34m)\u001b[0m\u001b[0;34m,\u001b[0m\u001b[0mrelative_histogram_6x8\u001b[0m\u001b[0;34m[\u001b[0m\u001b[0;36m0\u001b[0m\u001b[0;34m]\u001b[0m\u001b[0;34m.\u001b[0m\u001b[0mflatten\u001b[0m\u001b[0;34m(\u001b[0m\u001b[0;34m)\u001b[0m\u001b[0;34m)\u001b[0m\u001b[0;34m\u001b[0m\u001b[0;34m\u001b[0m\u001b[0m\n\u001b[0m",
      "\u001b[0;32m/opt/conda/envs/bul7cv/lib/python3.7/site-packages/matplotlib/__init__.py\u001b[0m in \u001b[0;36minner\u001b[0;34m(ax, data, *args, **kwargs)\u001b[0m\n\u001b[1;32m   1597\u001b[0m     \u001b[0;32mdef\u001b[0m \u001b[0minner\u001b[0m\u001b[0;34m(\u001b[0m\u001b[0max\u001b[0m\u001b[0;34m,\u001b[0m \u001b[0;34m*\u001b[0m\u001b[0margs\u001b[0m\u001b[0;34m,\u001b[0m \u001b[0mdata\u001b[0m\u001b[0;34m=\u001b[0m\u001b[0;32mNone\u001b[0m\u001b[0;34m,\u001b[0m \u001b[0;34m**\u001b[0m\u001b[0mkwargs\u001b[0m\u001b[0;34m)\u001b[0m\u001b[0;34m:\u001b[0m\u001b[0;34m\u001b[0m\u001b[0;34m\u001b[0m\u001b[0m\n\u001b[1;32m   1598\u001b[0m         \u001b[0;32mif\u001b[0m \u001b[0mdata\u001b[0m \u001b[0;32mis\u001b[0m \u001b[0;32mNone\u001b[0m\u001b[0;34m:\u001b[0m\u001b[0;34m\u001b[0m\u001b[0;34m\u001b[0m\u001b[0m\n\u001b[0;32m-> 1599\u001b[0;31m             \u001b[0;32mreturn\u001b[0m \u001b[0mfunc\u001b[0m\u001b[0;34m(\u001b[0m\u001b[0max\u001b[0m\u001b[0;34m,\u001b[0m \u001b[0;34m*\u001b[0m\u001b[0mmap\u001b[0m\u001b[0;34m(\u001b[0m\u001b[0msanitize_sequence\u001b[0m\u001b[0;34m,\u001b[0m \u001b[0margs\u001b[0m\u001b[0;34m)\u001b[0m\u001b[0;34m,\u001b[0m \u001b[0;34m**\u001b[0m\u001b[0mkwargs\u001b[0m\u001b[0;34m)\u001b[0m\u001b[0;34m\u001b[0m\u001b[0;34m\u001b[0m\u001b[0m\n\u001b[0m\u001b[1;32m   1600\u001b[0m \u001b[0;34m\u001b[0m\u001b[0m\n\u001b[1;32m   1601\u001b[0m         \u001b[0mbound\u001b[0m \u001b[0;34m=\u001b[0m \u001b[0mnew_sig\u001b[0m\u001b[0;34m.\u001b[0m\u001b[0mbind\u001b[0m\u001b[0;34m(\u001b[0m\u001b[0max\u001b[0m\u001b[0;34m,\u001b[0m \u001b[0;34m*\u001b[0m\u001b[0margs\u001b[0m\u001b[0;34m,\u001b[0m \u001b[0;34m**\u001b[0m\u001b[0mkwargs\u001b[0m\u001b[0;34m)\u001b[0m\u001b[0;34m\u001b[0m\u001b[0;34m\u001b[0m\u001b[0m\n",
      "\u001b[0;32m/opt/conda/envs/bul7cv/lib/python3.7/site-packages/matplotlib/axes/_axes.py\u001b[0m in \u001b[0;36mscatter\u001b[0;34m(self, x, y, s, c, marker, cmap, norm, vmin, vmax, alpha, linewidths, verts, edgecolors, plotnonfinite, **kwargs)\u001b[0m\n\u001b[1;32m   4441\u001b[0m         \u001b[0my\u001b[0m \u001b[0;34m=\u001b[0m \u001b[0mnp\u001b[0m\u001b[0;34m.\u001b[0m\u001b[0mma\u001b[0m\u001b[0;34m.\u001b[0m\u001b[0mravel\u001b[0m\u001b[0;34m(\u001b[0m\u001b[0my\u001b[0m\u001b[0;34m)\u001b[0m\u001b[0;34m\u001b[0m\u001b[0;34m\u001b[0m\u001b[0m\n\u001b[1;32m   4442\u001b[0m         \u001b[0;32mif\u001b[0m \u001b[0mx\u001b[0m\u001b[0;34m.\u001b[0m\u001b[0msize\u001b[0m \u001b[0;34m!=\u001b[0m \u001b[0my\u001b[0m\u001b[0;34m.\u001b[0m\u001b[0msize\u001b[0m\u001b[0;34m:\u001b[0m\u001b[0;34m\u001b[0m\u001b[0;34m\u001b[0m\u001b[0m\n\u001b[0;32m-> 4443\u001b[0;31m             \u001b[0;32mraise\u001b[0m \u001b[0mValueError\u001b[0m\u001b[0;34m(\u001b[0m\u001b[0;34m\"x and y must be the same size\"\u001b[0m\u001b[0;34m)\u001b[0m\u001b[0;34m\u001b[0m\u001b[0;34m\u001b[0m\u001b[0m\n\u001b[0m\u001b[1;32m   4444\u001b[0m \u001b[0;34m\u001b[0m\u001b[0m\n\u001b[1;32m   4445\u001b[0m         \u001b[0;32mif\u001b[0m \u001b[0ms\u001b[0m \u001b[0;32mis\u001b[0m \u001b[0;32mNone\u001b[0m\u001b[0;34m:\u001b[0m\u001b[0;34m\u001b[0m\u001b[0;34m\u001b[0m\u001b[0m\n",
      "\u001b[0;31mValueError\u001b[0m: x and y must be the same size"
     ]
    },
    {
     "data": {
      "image/png": "[encoded data removed]",
      "text/plain": [
       "<Figure size 1152x576 with 1 Axes>"
      ]
     },
     "metadata": {
      "needs_background": "light"
     },
     "output_type": "display_data"
    }
   ],
   "source": [
    "_, axis = plt.subplots(1,1,figsize=(16,8))\n",
    "\n",
    "axis.scatter(relative_depths.flatten(),relative_histogram_6x8[0].reshape())"
   ]
  }
 ],
 "metadata": {
  "kernelspec": {
   "display_name": "Python 3",
   "language": "python",
   "name": "python3"
  },
  "language_info": {
   "codemirror_mode": {
    "name": "ipython",
    "version": 3
   },
   "file_extension": ".py",
   "mimetype": "text/x-python",
   "name": "python",
   "nbconvert_exporter": "python",
   "pygments_lexer": "ipython3",
   "version": "3.7.6"
  },
  "toc": {
   "base_numbering": 1,
   "nav_menu": {},
   "number_sections": true,
   "sideBar": true,
   "skip_h1_title": false,
   "title_cell": "Table of Contents",
   "title_sidebar": "Contents",
   "toc_cell": false,
   "toc_position": {},
   "toc_section_display": true,
   "toc_window_display": false
  },
  "varInspector": {
   "cols": {
    "lenName": 16,
    "lenType": 16,
    "lenVar": "160"
   },
   "kernels_config": {
    "python": {
     "delete_cmd_postfix": "",
     "delete_cmd_prefix": "del ",
     "library": "var_list.py",
     "varRefreshCmd": "print(var_dic_list())"
    },
    "r": {
     "delete_cmd_postfix": ") ",
     "delete_cmd_prefix": "rm(",
     "library": "var_list.r",
     "varRefreshCmd": "cat(var_dic_list()) "
    }
   },
   "types_to_exclude": [
    "module",
    "function",
    "builtin_function_or_method",
    "instance",
    "_Feature"
   ],
   "window_display": false
  }
 },
 "nbformat": 4,
 "nbformat_minor": 4
}
