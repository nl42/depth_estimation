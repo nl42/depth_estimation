{
 "cells": [
  {
   "cell_type": "code",
   "execution_count": 7,
   "metadata": {
    "ExecuteTime": {
     "end_time": "2020-04-27T05:25:53.278709Z",
     "start_time": "2020-04-27T05:25:53.220030Z"
    }
   },
   "outputs": [
    {
     "data": {
      "text/html": [
       "<style>.container{max-width:80%!important;width:auto!important;}</style>"
      ],
      "text/plain": [
       "<IPython.core.display.HTML object>"
      ]
     },
     "metadata": {},
     "output_type": "display_data"
    }
   ],
   "source": [
    "from IPython.core.display import display, HTML\n",
    "display(HTML(\"<style>.container{max-width:80%!important;width:auto!important;}</style>\"))\n",
    "\n",
    "from IPython.core.interactiveshell import InteractiveShell\n",
    "InteractiveShell.ast_node_interactivity = \"all\"\n",
    "\n",
    "%reload_ext autoreload\n",
    "%autoreload 2\n",
    "%matplotlib inline\n",
    "\n",
    "import cv2\n",
    "\n",
    "import numpy as np\n",
    "import matplotlib.pyplot as plt\n",
    "\n",
    "import sys\n",
    "sys.path.append('../')\n",
    "\n",
    "from depth_Functions import (\n",
    "    import_raw_colour_image, \n",
    "    import_raw_depth_image,\n",
    "    show_img, \n",
    "    show_array_of_images,\n",
    "    show_function\n",
    ")\n",
    "\n",
    "from Equations import (\n",
    "    symbol,\n",
    "    equation\n",
    ")"
   ]
  },
  {
   "cell_type": "markdown",
   "metadata": {},
   "source": [
    "# Laplacian"
   ]
  },
  {
   "cell_type": "code",
   "execution_count": 15,
   "metadata": {
    "ExecuteTime": {
     "end_time": "2020-04-27T05:30:02.242411Z",
     "start_time": "2020-04-27T05:30:02.185496Z"
    },
    "variables": {
     "equation('P(d|X;\\theta,\\lambda) = [E_lap]')": "$$P(d|X;\\theta,\\lambda) = \\dfrac{1}{Z}e^\\left(-\\sum_\\limits{y=0}^Y\\sum_\\limits{x=0}^X\\dfrac{| d_i - \\overline{f}_i\\overline{\\theta}_y |}{2\\lambda_{1y}} - \\sum_\\limits{s=1}^3\\sum_\\limits{y=0}^Y\\sum_\\limits{x=0}^X\\sum_\\limits{j}^4\\dfrac{| d_i(s) - d_j(s) |}{2\\lambda_{2ys}} \\right)$$"
    }
   },
   "outputs": [
    {
     "data": {
      "text/markdown": [
       "$$P(d|X;\\theta,\\lambda) = \\dfrac{1}{Z}e^\\left(-\\sum_\\limits{y=0}^Y\\sum_\\limits{x=0}^X\\dfrac{| d_i - \\overline{f}_i\\overline{\\theta}_y |}{2\\lambda_{1y}} - \\sum_\\limits{s=1}^3\\sum_\\limits{y=0}^Y\\sum_\\limits{x=0}^X\\sum_\\limits{j}^4\\dfrac{| d_i(s) - d_j(s) |}{2\\lambda_{2ys}} \\right)$$"
      ],
      "text/plain": [
       "<IPython.core.display.Markdown object>"
      ]
     },
     "execution_count": 15,
     "metadata": {},
     "output_type": "execute_result"
    }
   ],
   "source": [
    "equation('P(d|X;\\\\theta,\\\\lambda) = [E_lap]')"
   ]
  },
  {
   "cell_type": "markdown",
   "metadata": {},
   "source": [
    "## Absolute depth accuracy"
   ]
  },
  {
   "cell_type": "code",
   "execution_count": 20,
   "metadata": {
    "ExecuteTime": {
     "end_time": "2020-04-27T05:39:00.772970Z",
     "start_time": "2020-04-27T05:39:00.734008Z"
    },
    "variables": {
     "equation('[S_patch]+[E_abs]')": "$$\\sum_\\limits{y=0}^Y\\sum_\\limits{x=0}^X+| d_i - \\overline{f}_i\\overline{\\theta}_y |$$"
    }
   },
   "outputs": [
    {
     "data": {
      "text/markdown": [
       "$$\\sum_\\limits{y=0}^Y\\sum_\\limits{x=0}^X+| d_i - \\overline{f}_i\\overline{\\theta}_y |$$"
      ],
      "text/plain": [
       "<IPython.core.display.Markdown object>"
      ]
     },
     "execution_count": 20,
     "metadata": {},
     "output_type": "execute_result"
    }
   ],
   "source": [
    "equation('[S_patch]+[E_abs]')"
   ]
  },
  {
   "cell_type": "markdown",
   "metadata": {},
   "source": [
    "Y = the number of vertical patches"
   ]
  },
  {
   "cell_type": "markdown",
   "metadata": {},
   "source": [
    "X = the number of horizontal"
   ]
  },
  {
   "cell_type": "markdown",
   "metadata": {},
   "source": [
    "$d_i$ = the depth at patch i"
   ]
  },
  {
   "cell_type": "code",
   "execution_count": 52,
   "metadata": {
    "ExecuteTime": {
     "end_time": "2020-04-27T05:56:18.850922Z",
     "start_time": "2020-04-27T05:56:18.804087Z"
    }
   },
   "outputs": [
    {
     "data": {
      "text/markdown": [
       "$\\overline{\\theta}_y$ = theta vector at row y"
      ],
      "text/plain": [
       "<IPython.core.display.Markdown object>"
      ]
     },
     "execution_count": 52,
     "metadata": {},
     "output_type": "execute_result"
    }
   ],
   "source": [
    "symbol('[V_theta] = theta vector at row y')"
   ]
  },
  {
   "cell_type": "markdown",
   "metadata": {},
   "source": [
    "## Relative depth"
   ]
  },
  {
   "cell_type": "markdown",
   "metadata": {},
   "source": [
    "We take relative depth into the consideration with the following equation"
   ]
  },
  {
   "cell_type": "code",
   "execution_count": 21,
   "metadata": {
    "ExecuteTime": {
     "end_time": "2020-04-27T05:39:11.588030Z",
     "start_time": "2020-04-27T05:39:11.546415Z"
    }
   },
   "outputs": [
    {
     "data": {
      "text/markdown": [
       "$$\\sum_\\limits{s=1}^3\\sum_\\limits{y=0}^Y\\sum_\\limits{x=0}^X\\sum_\\limits{j}^4| d_i(s) - d_j(s) |$$"
      ],
      "text/plain": [
       "<IPython.core.display.Markdown object>"
      ]
     },
     "execution_count": 21,
     "metadata": {},
     "output_type": "execute_result"
    }
   ],
   "source": [
    "equation('[S_scale][S_patch][S_adj][E_rel]')"
   ]
  },
  {
   "cell_type": "markdown",
   "metadata": {},
   "source": [
    "$d_i(s)$ is the depth of the center patch at of the patch resized to scale s"
   ]
  },
  {
   "cell_type": "markdown",
   "metadata": {},
   "source": [
    "$d_j(s)$ is the depth at the given adjacent patch at scale s"
   ]
  },
  {
   "cell_type": "markdown",
   "metadata": {},
   "source": [
    "## Training"
   ]
  },
  {
   "cell_type": "markdown",
   "metadata": {},
   "source": [
    "Having calculated the features for our training images the goal of training is to calculate $\\theta$s and $\\sigma$s"
   ]
  },
  {
   "cell_type": "markdown",
   "metadata": {},
   "source": [
    "## $\\theta$"
   ]
  },
  {
   "cell_type": "markdown",
   "metadata": {},
   "source": [
    "We calculate {{symbol('[V_theta]')}}s minimise the difference between the observed depth and predicted depth"
   ]
  },
  {
   "cell_type": "markdown",
   "metadata": {},
   "source": [
    "We do this by calculating the least squares of the following equation"
   ]
  },
  {
   "cell_type": "code",
   "execution_count": 22,
   "metadata": {
    "ExecuteTime": {
     "end_time": "2020-04-27T05:39:38.383192Z",
     "start_time": "2020-04-27T05:39:38.335581Z"
    }
   },
   "outputs": [
    {
     "data": {
      "text/markdown": [
       "$$d_i = \\overline{f}_i\\overline{\\theta}_y$$"
      ],
      "text/plain": [
       "<IPython.core.display.Markdown object>"
      ]
     },
     "execution_count": 22,
     "metadata": {},
     "output_type": "execute_result"
    }
   ],
   "source": [
    "equation(f'd_i = [E_pred]')"
   ]
  },
  {
   "cell_type": "markdown",
   "metadata": {},
   "source": [
    "### Uncertanties"
   ]
  },
  {
   "cell_type": "markdown",
   "metadata": {},
   "source": [
    "To combine the absolute and relative we must encorporate uncertanties for both"
   ]
  },
  {
   "cell_type": "code",
   "execution_count": null,
   "metadata": {
    "ExecuteTime": {
     "end_time": "2020-04-19T09:15:21.936742Z",
     "start_time": "2020-04-19T09:15:08.411474Z"
    }
   },
   "outputs": [],
   "source": [
    "relative_histogram_6x8 = get_relative_histograms(image, 6, scales)"
   ]
  },
  {
   "cell_type": "code",
   "execution_count": null,
   "metadata": {
    "ExecuteTime": {
     "end_time": "2020-04-19T09:15:21.941741Z",
     "start_time": "2020-04-19T09:15:08.556Z"
    }
   },
   "outputs": [],
   "source": [
    "relative_histogram_6x8[0].shape\n",
    "relative_histogram_6x8[1].shape\n",
    "relative_histogram_6x8[2].shape"
   ]
  },
  {
   "cell_type": "markdown",
   "metadata": {},
   "source": [
    "#### Absolute uncertanty"
   ]
  },
  {
   "cell_type": "code",
   "execution_count": 24,
   "metadata": {
    "ExecuteTime": {
     "end_time": "2020-04-27T05:40:36.301079Z",
     "start_time": "2020-04-27T05:40:36.260870Z"
    },
    "variables": {
     "equation(f'[V_l1]=[E_l1]')": {}
    }
   },
   "outputs": [
    {
     "data": {
      "text/markdown": [
       "$$\\lambda_{1y}=\\overline{v}_y\\overline{f}_i$$"
      ],
      "text/plain": [
       "<IPython.core.display.Markdown object>"
      ]
     },
     "execution_count": 24,
     "metadata": {},
     "output_type": "execute_result"
    }
   ],
   "source": [
    "equation(f'[V_l1]=[E_l1]')"
   ]
  },
  {
   "cell_type": "code",
   "execution_count": 49,
   "metadata": {
    "ExecuteTime": {
     "end_time": "2020-04-27T05:55:25.803837Z",
     "start_time": "2020-04-27T05:55:25.756225Z"
    },
    "variables": {
     "symbol('[V_v]')": {}
    }
   },
   "outputs": [
    {
     "data": {
      "text/markdown": [
       "$\\overline{v}_y$ = vector of chosen parameters"
      ],
      "text/plain": [
       "<IPython.core.display.Markdown object>"
      ]
     },
     "execution_count": 49,
     "metadata": {},
     "output_type": "execute_result"
    }
   ],
   "source": [
    "symbol('[V_v] = vector of chosen parameters') "
   ]
  },
  {
   "cell_type": "markdown",
   "metadata": {},
   "source": [
    "#### relative uncertainty"
   ]
  },
  {
   "cell_type": "code",
   "execution_count": 25,
   "metadata": {
    "ExecuteTime": {
     "end_time": "2020-04-27T05:40:50.561180Z",
     "start_time": "2020-04-27T05:40:50.516945Z"
    },
    "variables": {
     "equation(f'[V_l2]=[E_l2]')": {}
    }
   },
   "outputs": [
    {
     "data": {
      "text/markdown": [
       "$$\\lambda_{2ys}=\\overline{u}_{ys}|y_{ijs}|$$"
      ],
      "text/plain": [
       "<IPython.core.display.Markdown object>"
      ]
     },
     "execution_count": 25,
     "metadata": {},
     "output_type": "execute_result"
    }
   ],
   "source": [
    "equation(f'[V_l2]=[E_l2]')"
   ]
  },
  {
   "cell_type": "code",
   "execution_count": 50,
   "metadata": {
    "ExecuteTime": {
     "end_time": "2020-04-27T05:55:41.475144Z",
     "start_time": "2020-04-27T05:55:41.430328Z"
    },
    "variables": {
     "symbol('[V_u]')": {}
    }
   },
   "outputs": [
    {
     "data": {
      "text/markdown": [
       "$\\overline{u}_{ys}$ = vector of chosen parameters"
      ],
      "text/plain": [
       "<IPython.core.display.Markdown object>"
      ]
     },
     "execution_count": 50,
     "metadata": {},
     "output_type": "execute_result"
    }
   ],
   "source": [
    "symbol('[V_u] = vector of chosen parameters') "
   ]
  },
  {
   "cell_type": "code",
   "execution_count": 51,
   "metadata": {
    "ExecuteTime": {
     "end_time": "2020-04-27T05:55:56.901050Z",
     "start_time": "2020-04-27T05:55:56.851872Z"
    },
    "variables": {
     "symbol('[V_hist]')": {}
    }
   },
   "outputs": [
    {
     "data": {
      "text/markdown": [
       "$y_{ijs}$ = relative depth histogram"
      ],
      "text/plain": [
       "<IPython.core.display.Markdown object>"
      ]
     },
     "execution_count": 51,
     "metadata": {},
     "output_type": "execute_result"
    }
   ],
   "source": [
    "symbol('[V_hist] = relative depth histogram')"
   ]
  },
  {
   "cell_type": "markdown",
   "metadata": {},
   "source": [
    "[Asshutosh et al](https://www.cs.cornell.edu/~asaxena/learningdepth/ijcv_monocular3dreconstruction.pdf) observed that the relative depth histogram and the difference in depths relationship to one another can be fairly well represented by a lapacian curve"
   ]
  },
  {
   "cell_type": "markdown",
   "metadata": {
    "variables": {
     "symbol('[V_u]')": {}
    }
   },
   "source": [
    "We can therefore estimate {{symbol('[V_u]')}} fitting a lapacian graph to fit the following equation"
   ]
  },
  {
   "cell_type": "code",
   "execution_count": 43,
   "metadata": {
    "ExecuteTime": {
     "end_time": "2020-04-27T05:52:48.055608Z",
     "start_time": "2020-04-27T05:52:48.014216Z"
    },
    "variables": {
     "equation('[V_hist] = \\dfrac{1}{[V_u]}e^{[E_rel]}')": {}
    }
   },
   "outputs": [
    {
     "data": {
      "text/markdown": [
       "$$y_{ijs} = \\dfrac{1}{\\overline{u}_{ys}}e^{| d_i(s) - d_j(s) |}$$"
      ],
      "text/plain": [
       "<IPython.core.display.Markdown object>"
      ]
     },
     "execution_count": 43,
     "metadata": {},
     "output_type": "execute_result"
    }
   ],
   "source": [
    "equation('[V_hist] = \\dfrac{1}{[V_u]}e^{[E_rel]}')"
   ]
  },
  {
   "cell_type": "code",
   "execution_count": null,
   "metadata": {
    "ExecuteTime": {
     "end_time": "2020-04-19T09:15:21.950994Z",
     "start_time": "2020-04-19T09:15:10.343Z"
    }
   },
   "outputs": [],
   "source": [
    "import matplotlib.pyplot as plt\n",
    "\n",
    "_, axis = plt.subplots(3,1,figsize=(16,8))\n",
    "for i in range(len(relative_histogram_6x8)):\n",
    "    axis[i].hist(relative_histogram_6x8[i].reshape(-1,10), 10)\n",
    "    axis[i].set_yscale('log')\n",
    "pass;"
   ]
  },
  {
   "cell_type": "code",
   "execution_count": null,
   "metadata": {
    "ExecuteTime": {
     "end_time": "2020-04-19T09:15:21.953616Z",
     "start_time": "2020-04-19T09:15:10.502Z"
    }
   },
   "outputs": [],
   "source": [
    "depth_patches = process_patches(depth, patchsize, function=np.mean)"
   ]
  },
  {
   "cell_type": "code",
   "execution_count": null,
   "metadata": {
    "ExecuteTime": {
     "end_time": "2020-04-19T09:15:21.956308Z",
     "start_time": "2020-04-19T09:15:10.657Z"
    },
    "scrolled": true
   },
   "outputs": [],
   "source": [
    "_, axis = plt.subplots(1,1,figsize=(16,8))\n",
    "\n",
    "axis.scatter(relative_depths.flatten(),relative_histogram_6x8[0].reshape())"
   ]
  }
 ],
 "metadata": {
  "kernelspec": {
   "display_name": "Python 3",
   "language": "python",
   "name": "python3"
  },
  "language_info": {
   "codemirror_mode": {
    "name": "ipython",
    "version": 3
   },
   "file_extension": ".py",
   "mimetype": "text/x-python",
   "name": "python",
   "nbconvert_exporter": "python",
   "pygments_lexer": "ipython3",
   "version": "3.7.6"
  },
  "toc": {
   "base_numbering": 1,
   "nav_menu": {},
   "number_sections": true,
   "sideBar": true,
   "skip_h1_title": false,
   "title_cell": "Table of Contents",
   "title_sidebar": "Contents",
   "toc_cell": false,
   "toc_position": {},
   "toc_section_display": true,
   "toc_window_display": false
  },
  "varInspector": {
   "cols": {
    "lenName": 16,
    "lenType": 16,
    "lenVar": "160"
   },
   "kernels_config": {
    "python": {
     "delete_cmd_postfix": "",
     "delete_cmd_prefix": "del ",
     "library": "var_list.py",
     "varRefreshCmd": "print(var_dic_list())"
    },
    "r": {
     "delete_cmd_postfix": ") ",
     "delete_cmd_prefix": "rm(",
     "library": "var_list.r",
     "varRefreshCmd": "cat(var_dic_list()) "
    }
   },
   "types_to_exclude": [
    "module",
    "function",
    "builtin_function_or_method",
    "instance",
    "_Feature"
   ],
   "window_display": false
  }
 },
 "nbformat": 4,
 "nbformat_minor": 4
}
