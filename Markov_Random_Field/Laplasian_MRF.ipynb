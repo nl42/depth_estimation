{
 "cells": [
  {
   "cell_type": "code",
   "execution_count": 124,
   "metadata": {
    "ExecuteTime": {
     "end_time": "2020-04-19T11:45:44.289044Z",
     "start_time": "2020-04-19T11:45:44.217237Z"
    }
   },
   "outputs": [
    {
     "data": {
      "text/html": [
       "<style>.container{max-width:80%!important;width:auto!important;}</style>"
      ],
      "text/plain": [
       "<IPython.core.display.HTML object>"
      ]
     },
     "metadata": {},
     "output_type": "display_data"
    }
   ],
   "source": [
    "from IPython.core.display import display, HTML\n",
    "display(HTML(\"<style>.container{max-width:80%!important;width:auto!important;}</style>\"))\n",
    "\n",
    "from IPython.core.interactiveshell import InteractiveShell\n",
    "InteractiveShell.ast_node_interactivity = \"all\"\n",
    "\n",
    "%reload_ext autoreload\n",
    "%autoreload 2\n",
    "%matplotlib inline\n",
    "\n",
    "import cv2\n",
    "\n",
    "import numpy as np\n",
    "import matplotlib.pyplot as plt\n",
    "\n",
    "import sys\n",
    "sys.path.append('../')\n",
    "\n",
    "from depth_Functions import (\n",
    "    import_raw_colour_image, \n",
    "    import_raw_depth_image,\n",
    "    show_img, \n",
    "    show_array_of_images,\n",
    "    show_function\n",
    ")\n",
    "    \n",
    "from Feature_Extraction import (\n",
    "    get_patchsize,\n",
    "    process_patches, \n",
    "    create_local_feature_vector\n",
    ")\n",
    "\n",
    "from Equations import (\n",
    "    symbol,\n",
    "    equation\n",
    ")\n",
    "\n",
    "from Global_Depth import (\n",
    "    get_absolute_and_relative_depth,\n",
    "    get_absolute_depth,\n",
    "    get_relative_histograms,\n",
    "    subtract_adjacent\n",
    ")"
   ]
  },
  {
   "cell_type": "code",
   "execution_count": 127,
   "metadata": {
    "ExecuteTime": {
     "end_time": "2020-04-19T11:46:06.969470Z",
     "start_time": "2020-04-19T11:46:06.913973Z"
    },
    "hide_input": true
   },
   "outputs": [],
   "source": [
    "bgr = import_raw_colour_image('../GTA_images/Simple/Colour/color_1.raw')\n",
    "ycc = cv2.cvtColor(bgr, cv2.COLOR_BGR2YCrCb)\n",
    "depth = import_raw_depth_image('../GTA_images/Simple/Depth/depth_1.raw')"
   ]
  },
  {
   "cell_type": "code",
   "execution_count": 125,
   "metadata": {
    "ExecuteTime": {
     "end_time": "2020-04-19T11:46:02.837883Z",
     "start_time": "2020-04-19T11:46:02.790486Z"
    }
   },
   "outputs": [],
   "source": [
    "image = ycc\n",
    "patchsize = 6\n",
    "scales = [(3,3), (9,9)]"
   ]
  },
  {
   "cell_type": "code",
   "execution_count": 123,
   "metadata": {
    "ExecuteTime": {
     "end_time": "2020-04-19T11:40:48.404245Z",
     "start_time": "2020-04-19T11:40:48.364388Z"
    },
    "hide_input": true
   },
   "outputs": [
    {
     "name": "stdout",
     "output_type": "stream",
     "text": [
      "test\n"
     ]
    }
   ],
   "source": [
    "print('test')"
   ]
  },
  {
   "cell_type": "markdown",
   "metadata": {},
   "source": [
    "# Laplacian"
   ]
  },
  {
   "cell_type": "markdown",
   "metadata": {
    "ExecuteTime": {
     "end_time": "2020-04-17T07:56:40.328587Z",
     "start_time": "2020-04-17T07:56:40.311311Z"
    },
    "variables": {
     "equation('P(d|X;\\theta,\\lambda) = [E_lap]')": "$$P(d|X;\\theta,\\lambda) = \\dfrac{1}{Z}e^\\left(-\\sum_\\limits{y=0}^Y\\sum_\\limits{x=0}^X\\dfrac{| d_i - \\overline{f}_i\\overline{\\theta}_y |}{2\\lambda_{1y}} - \\sum_\\limits{s=1}^3\\sum_\\limits{y=0}^Y\\sum_\\limits{x=0}^X\\sum_\\limits{j}^4\\dfrac{| d_i(s) - d_j(s) |}{2\\lambda_{2ys}} \\right)$$"
    }
   },
   "source": [
    "{{equation('P(d|X;\\theta,\\lambda) = [E_lap]')}}"
   ]
  },
  {
   "cell_type": "markdown",
   "metadata": {},
   "source": [
    "## Absolute depth accuracy"
   ]
  },
  {
   "cell_type": "markdown",
   "metadata": {
    "variables": {
     "equation('[S_patch]+[E_abs]')": "$$\\sum_\\limits{y=0}^Y\\sum_\\limits{x=0}^X+| d_i - \\overline{f}_i\\overline{\\theta}_y |$$"
    }
   },
   "source": [
    "{{equation('[S_patch]+[E_abs]')}}"
   ]
  },
  {
   "cell_type": "markdown",
   "metadata": {},
   "source": [
    "Y = the number of vertical patches"
   ]
  },
  {
   "cell_type": "markdown",
   "metadata": {},
   "source": [
    "X = the number of horizontal"
   ]
  },
  {
   "cell_type": "markdown",
   "metadata": {},
   "source": [
    "$d_i$ = the depth at patch i"
   ]
  },
  {
   "cell_type": "markdown",
   "metadata": {},
   "source": [
    "{{symbol('[V_theta]')}} = $\\theta$ vector at row y"
   ]
  },
  {
   "cell_type": "markdown",
   "metadata": {},
   "source": [
    "## Relative depth"
   ]
  },
  {
   "cell_type": "markdown",
   "metadata": {},
   "source": [
    "We take relative depth into the consideration with the following equation"
   ]
  },
  {
   "cell_type": "markdown",
   "metadata": {},
   "source": [
    "{{equation('[S_scale][S_patch][S_adj][E_rel]')}}"
   ]
  },
  {
   "cell_type": "markdown",
   "metadata": {},
   "source": [
    "$d_i(s)$ is the depth of the center patch at of the patch resized to scale s"
   ]
  },
  {
   "cell_type": "markdown",
   "metadata": {},
   "source": [
    "$d_j(s)$ is the depth at the given adjacent patch at scale s"
   ]
  },
  {
   "cell_type": "markdown",
   "metadata": {},
   "source": [
    "## Training"
   ]
  },
  {
   "cell_type": "markdown",
   "metadata": {},
   "source": [
    "Having calculated the features for our training images the goal of training is to calculate $\\theta$s and $\\sigma$s"
   ]
  },
  {
   "cell_type": "markdown",
   "metadata": {},
   "source": [
    "## $\\theta$"
   ]
  },
  {
   "cell_type": "markdown",
   "metadata": {},
   "source": [
    "We calculate {{symbol('[V_theta]')}}s minimise the difference between the observed depth and predicted depth"
   ]
  },
  {
   "cell_type": "markdown",
   "metadata": {},
   "source": [
    "We do this by calculating the least squares of the following equation"
   ]
  },
  {
   "cell_type": "markdown",
   "metadata": {},
   "source": [
    "{{equation(f'd_i = [E_pred]')}}"
   ]
  },
  {
   "cell_type": "code",
   "execution_count": 81,
   "metadata": {
    "ExecuteTime": {
     "end_time": "2020-04-19T10:23:51.057213Z",
     "start_time": "2020-04-19T10:23:51.027772Z"
    }
   },
   "outputs": [],
   "source": [
    "import inspect\n",
    "test = \"def test()\""
   ]
  },
  {
   "cell_type": "markdown",
   "metadata": {},
   "source": [
    "```\n",
    "\n",
    "{{test}}\n",
    "\n",
    "```"
   ]
  },
  {
   "cell_type": "markdown",
   "metadata": {},
   "source": [
    "```python \n",
    "    def test() \n",
    "```"
   ]
  },
  {
   "cell_type": "code",
   "execution_count": 78,
   "metadata": {
    "ExecuteTime": {
     "end_time": "2020-04-19T10:10:28.990299Z",
     "start_time": "2020-04-19T10:10:28.948897Z"
    }
   },
   "outputs": [
    {
     "name": "stdout",
     "output_type": "stream",
     "text": [
      "def least_squares(features, depth, 𝜃):\n",
      "    return optimize.curve_fit(least_squares_function, \n",
      "                              xdata=features.reshape(-1, features.shape[-1]), \n",
      "                              ydata=depth.flatten(),\n",
      "                              p0=𝜃)\n",
      "\n"
     ]
    }
   ],
   "source": [
    "print(inspect.getsource(least_squares))"
   ]
  },
  {
   "cell_type": "code",
   "execution_count": 118,
   "metadata": {
    "ExecuteTime": {
     "end_time": "2020-04-19T11:18:02.597298Z",
     "start_time": "2020-04-19T11:18:02.553641Z"
    },
    "variables": {
     "show_function(least_squares)": "\\begin{Verbatim}[commandchars=\\\\\\{\\}]\n\\PY{k}{def} \\PY{n+nf}{least\\PYZus{}squares}\\PY{p}{(}\\PY{n}{features}\\PY{p}{,} \\PY{n}{depth}\\PY{p}{,} \\PY{n}{𝜃}\\PY{p}{)}\\PY{p}{:}\n    \\PY{k}{return} \\PY{n}{optimize}\\PY{o}{.}\\PY{n}{curve\\PYZus{}fit}\\PY{p}{(}\\PY{n}{least\\PYZus{}squares\\PYZus{}function}\\PY{p}{,} \n                              \\PY{n}{xdata}\\PY{o}{=}\\PY{n}{features}\\PY{o}{.}\\PY{n}{reshape}\\PY{p}{(}\\PY{o}{\\PYZhy{}}\\PY{l+m+mi}{1}\\PY{p}{,} \\PY{n}{features}\\PY{o}{.}\\PY{n}{shape}\\PY{p}{[}\\PY{o}{\\PYZhy{}}\\PY{l+m+mi}{1}\\PY{p}{]}\\PY{p}{)}\\PY{p}{,} \n                              \\PY{n}{ydata}\\PY{o}{=}\\PY{n}{depth}\\PY{o}{.}\\PY{n}{flatten}\\PY{p}{(}\\PY{p}{)}\\PY{p}{,}\n                              \\PY{n}{p0}\\PY{o}{=}\\PY{n}{𝜃}\\PY{p}{)}\n\\end{Verbatim}\n"
    }
   },
   "outputs": [
    {
     "data": {
      "text/html": [
       "<style>.output_html .hll { background-color: #ffffcc }\n",
       ".output_html  { background: #f8f8f8; }\n",
       ".output_html .c { color: #408080; font-style: italic } /* Comment */\n",
       ".output_html .err { border: 1px solid #FF0000 } /* Error */\n",
       ".output_html .k { color: #008000; font-weight: bold } /* Keyword */\n",
       ".output_html .o { color: #666666 } /* Operator */\n",
       ".output_html .ch { color: #408080; font-style: italic } /* Comment.Hashbang */\n",
       ".output_html .cm { color: #408080; font-style: italic } /* Comment.Multiline */\n",
       ".output_html .cp { color: #BC7A00 } /* Comment.Preproc */\n",
       ".output_html .cpf { color: #408080; font-style: italic } /* Comment.PreprocFile */\n",
       ".output_html .c1 { color: #408080; font-style: italic } /* Comment.Single */\n",
       ".output_html .cs { color: #408080; font-style: italic } /* Comment.Special */\n",
       ".output_html .gd { color: #A00000 } /* Generic.Deleted */\n",
       ".output_html .ge { font-style: italic } /* Generic.Emph */\n",
       ".output_html .gr { color: #FF0000 } /* Generic.Error */\n",
       ".output_html .gh { color: #000080; font-weight: bold } /* Generic.Heading */\n",
       ".output_html .gi { color: #00A000 } /* Generic.Inserted */\n",
       ".output_html .go { color: #888888 } /* Generic.Output */\n",
       ".output_html .gp { color: #000080; font-weight: bold } /* Generic.Prompt */\n",
       ".output_html .gs { font-weight: bold } /* Generic.Strong */\n",
       ".output_html .gu { color: #800080; font-weight: bold } /* Generic.Subheading */\n",
       ".output_html .gt { color: #0044DD } /* Generic.Traceback */\n",
       ".output_html .kc { color: #008000; font-weight: bold } /* Keyword.Constant */\n",
       ".output_html .kd { color: #008000; font-weight: bold } /* Keyword.Declaration */\n",
       ".output_html .kn { color: #008000; font-weight: bold } /* Keyword.Namespace */\n",
       ".output_html .kp { color: #008000 } /* Keyword.Pseudo */\n",
       ".output_html .kr { color: #008000; font-weight: bold } /* Keyword.Reserved */\n",
       ".output_html .kt { color: #B00040 } /* Keyword.Type */\n",
       ".output_html .m { color: #666666 } /* Literal.Number */\n",
       ".output_html .s { color: #BA2121 } /* Literal.String */\n",
       ".output_html .na { color: #7D9029 } /* Name.Attribute */\n",
       ".output_html .nb { color: #008000 } /* Name.Builtin */\n",
       ".output_html .nc { color: #0000FF; font-weight: bold } /* Name.Class */\n",
       ".output_html .no { color: #880000 } /* Name.Constant */\n",
       ".output_html .nd { color: #AA22FF } /* Name.Decorator */\n",
       ".output_html .ni { color: #999999; font-weight: bold } /* Name.Entity */\n",
       ".output_html .ne { color: #D2413A; font-weight: bold } /* Name.Exception */\n",
       ".output_html .nf { color: #0000FF } /* Name.Function */\n",
       ".output_html .nl { color: #A0A000 } /* Name.Label */\n",
       ".output_html .nn { color: #0000FF; font-weight: bold } /* Name.Namespace */\n",
       ".output_html .nt { color: #008000; font-weight: bold } /* Name.Tag */\n",
       ".output_html .nv { color: #19177C } /* Name.Variable */\n",
       ".output_html .ow { color: #AA22FF; font-weight: bold } /* Operator.Word */\n",
       ".output_html .w { color: #bbbbbb } /* Text.Whitespace */\n",
       ".output_html .mb { color: #666666 } /* Literal.Number.Bin */\n",
       ".output_html .mf { color: #666666 } /* Literal.Number.Float */\n",
       ".output_html .mh { color: #666666 } /* Literal.Number.Hex */\n",
       ".output_html .mi { color: #666666 } /* Literal.Number.Integer */\n",
       ".output_html .mo { color: #666666 } /* Literal.Number.Oct */\n",
       ".output_html .sa { color: #BA2121 } /* Literal.String.Affix */\n",
       ".output_html .sb { color: #BA2121 } /* Literal.String.Backtick */\n",
       ".output_html .sc { color: #BA2121 } /* Literal.String.Char */\n",
       ".output_html .dl { color: #BA2121 } /* Literal.String.Delimiter */\n",
       ".output_html .sd { color: #BA2121; font-style: italic } /* Literal.String.Doc */\n",
       ".output_html .s2 { color: #BA2121 } /* Literal.String.Double */\n",
       ".output_html .se { color: #BB6622; font-weight: bold } /* Literal.String.Escape */\n",
       ".output_html .sh { color: #BA2121 } /* Literal.String.Heredoc */\n",
       ".output_html .si { color: #BB6688; font-weight: bold } /* Literal.String.Interpol */\n",
       ".output_html .sx { color: #008000 } /* Literal.String.Other */\n",
       ".output_html .sr { color: #BB6688 } /* Literal.String.Regex */\n",
       ".output_html .s1 { color: #BA2121 } /* Literal.String.Single */\n",
       ".output_html .ss { color: #19177C } /* Literal.String.Symbol */\n",
       ".output_html .bp { color: #008000 } /* Name.Builtin.Pseudo */\n",
       ".output_html .fm { color: #0000FF } /* Name.Function.Magic */\n",
       ".output_html .vc { color: #19177C } /* Name.Variable.Class */\n",
       ".output_html .vg { color: #19177C } /* Name.Variable.Global */\n",
       ".output_html .vi { color: #19177C } /* Name.Variable.Instance */\n",
       ".output_html .vm { color: #19177C } /* Name.Variable.Magic */\n",
       ".output_html .il { color: #666666 } /* Literal.Number.Integer.Long */</style><div class=\"highlight\"><pre><span></span><span class=\"k\">def</span> <span class=\"nf\">least_squares</span><span class=\"p\">(</span><span class=\"n\">features</span><span class=\"p\">,</span> <span class=\"n\">depth</span><span class=\"p\">,</span> <span class=\"n\">𝜃</span><span class=\"p\">):</span>\n",
       "    <span class=\"k\">return</span> <span class=\"n\">optimize</span><span class=\"o\">.</span><span class=\"n\">curve_fit</span><span class=\"p\">(</span><span class=\"n\">least_squares_function</span><span class=\"p\">,</span> \n",
       "                              <span class=\"n\">xdata</span><span class=\"o\">=</span><span class=\"n\">features</span><span class=\"o\">.</span><span class=\"n\">reshape</span><span class=\"p\">(</span><span class=\"o\">-</span><span class=\"mi\">1</span><span class=\"p\">,</span> <span class=\"n\">features</span><span class=\"o\">.</span><span class=\"n\">shape</span><span class=\"p\">[</span><span class=\"o\">-</span><span class=\"mi\">1</span><span class=\"p\">]),</span> \n",
       "                              <span class=\"n\">ydata</span><span class=\"o\">=</span><span class=\"n\">depth</span><span class=\"o\">.</span><span class=\"n\">flatten</span><span class=\"p\">(),</span>\n",
       "                              <span class=\"n\">p0</span><span class=\"o\">=</span><span class=\"n\">𝜃</span><span class=\"p\">)</span>\n",
       "</pre></div>\n"
      ],
      "text/latex": [
       "\\begin{Verbatim}[commandchars=\\\\\\{\\}]\n",
       "\\PY{k}{def} \\PY{n+nf}{least\\PYZus{}squares}\\PY{p}{(}\\PY{n}{features}\\PY{p}{,} \\PY{n}{depth}\\PY{p}{,} \\PY{n}{𝜃}\\PY{p}{)}\\PY{p}{:}\n",
       "    \\PY{k}{return} \\PY{n}{optimize}\\PY{o}{.}\\PY{n}{curve\\PYZus{}fit}\\PY{p}{(}\\PY{n}{least\\PYZus{}squares\\PYZus{}function}\\PY{p}{,} \n",
       "                              \\PY{n}{xdata}\\PY{o}{=}\\PY{n}{features}\\PY{o}{.}\\PY{n}{reshape}\\PY{p}{(}\\PY{o}{\\PYZhy{}}\\PY{l+m+mi}{1}\\PY{p}{,} \\PY{n}{features}\\PY{o}{.}\\PY{n}{shape}\\PY{p}{[}\\PY{o}{\\PYZhy{}}\\PY{l+m+mi}{1}\\PY{p}{]}\\PY{p}{)}\\PY{p}{,} \n",
       "                              \\PY{n}{ydata}\\PY{o}{=}\\PY{n}{depth}\\PY{o}{.}\\PY{n}{flatten}\\PY{p}{(}\\PY{p}{)}\\PY{p}{,}\n",
       "                              \\PY{n}{p0}\\PY{o}{=}\\PY{n}{𝜃}\\PY{p}{)}\n",
       "\\end{Verbatim}\n"
      ],
      "text/plain": [
       "def least_squares(features, depth, 𝜃):\n",
       "    return optimize.curve_fit(least_squares_function, \n",
       "                              xdata=features.reshape(-1, features.shape[-1]), \n",
       "                              ydata=depth.flatten(),\n",
       "                              p0=𝜃)"
      ]
     },
     "execution_count": 118,
     "metadata": {},
     "output_type": "execute_result"
    }
   ],
   "source": [
    "show_function(least_squares)"
   ]
  },
  {
   "cell_type": "code",
   "execution_count": 4,
   "metadata": {
    "ExecuteTime": {
     "end_time": "2020-04-19T09:15:07.825967Z",
     "start_time": "2020-04-19T09:15:07.784404Z"
    }
   },
   "outputs": [],
   "source": [
    "def least_squares_function(features, *𝜃):\n",
    "    return features @ np.array(𝜃)"
   ]
  },
  {
   "cell_type": "code",
   "execution_count": 5,
   "metadata": {
    "ExecuteTime": {
     "end_time": "2020-04-19T09:15:08.007391Z",
     "start_time": "2020-04-19T09:15:07.952251Z"
    }
   },
   "outputs": [],
   "source": [
    "def least_squares(features, depth, 𝜃):\n",
    "    return optimize.curve_fit(least_squares_function, \n",
    "                              xdata=features.reshape(-1, features.shape[-1]), \n",
    "                              ydata=depth.flatten(),\n",
    "                              p0=𝜃)"
   ]
  },
  {
   "cell_type": "markdown",
   "metadata": {},
   "source": [
    "### Uncertanties"
   ]
  },
  {
   "cell_type": "markdown",
   "metadata": {},
   "source": [
    "To combine the absolute and relative we must encorporate uncertanties for both"
   ]
  },
  {
   "cell_type": "code",
   "execution_count": null,
   "metadata": {
    "ExecuteTime": {
     "end_time": "2020-04-19T09:15:21.936742Z",
     "start_time": "2020-04-19T09:15:08.411474Z"
    }
   },
   "outputs": [],
   "source": [
    "relative_histogram_6x8 = get_relative_histograms(image, 6, scales)"
   ]
  },
  {
   "cell_type": "code",
   "execution_count": null,
   "metadata": {
    "ExecuteTime": {
     "end_time": "2020-04-19T09:15:21.941741Z",
     "start_time": "2020-04-19T09:15:08.556Z"
    }
   },
   "outputs": [],
   "source": [
    "relative_histogram_6x8[0].shape\n",
    "relative_histogram_6x8[1].shape\n",
    "relative_histogram_6x8[2].shape"
   ]
  },
  {
   "cell_type": "markdown",
   "metadata": {},
   "source": [
    "#### Absolute uncertanty"
   ]
  },
  {
   "cell_type": "markdown",
   "metadata": {
    "variables": {
     "equation(f'[V_l1]=[E_l1]')": {}
    }
   },
   "source": [
    "{{equation(f'[V_l1]=[E_l1]')}}"
   ]
  },
  {
   "cell_type": "markdown",
   "metadata": {
    "variables": {
     "symbol('[V_v]')": {}
    }
   },
   "source": [
    "{{symbol('[V_v]')}} = vector of chosen parameters"
   ]
  },
  {
   "cell_type": "markdown",
   "metadata": {},
   "source": [
    "#### relative uncertainty"
   ]
  },
  {
   "cell_type": "markdown",
   "metadata": {
    "variables": {
     "equation(f'[V_l2]=[E_l2]')": {}
    }
   },
   "source": [
    "{{equation(f'[V_l2]=[E_l2]')}}"
   ]
  },
  {
   "cell_type": "markdown",
   "metadata": {
    "variables": {
     "symbol('[V_u]')": {}
    }
   },
   "source": [
    "{{symbol('[V_u]')}} = vector of chosen parameters"
   ]
  },
  {
   "cell_type": "markdown",
   "metadata": {
    "variables": {
     "symbol('[V_hist]')": {}
    }
   },
   "source": [
    "{{symbol('[V_hist]')}} = relative depth histogram"
   ]
  },
  {
   "cell_type": "markdown",
   "metadata": {},
   "source": [
    "[Asshutosh et al](https://www.cs.cornell.edu/~asaxena/learningdepth/ijcv_monocular3dreconstruction.pdf) observed that the relative depth histogram and the difference in depths relationship to one another can be fairly well represented by a lapacian curve"
   ]
  },
  {
   "cell_type": "markdown",
   "metadata": {
    "variables": {
     "symbol('[V_u]')": {}
    }
   },
   "source": [
    "We can therefore estimate {{symbol('[V_u]')}} fitting a lapacian graph to fit the following equation"
   ]
  },
  {
   "cell_type": "markdown",
   "metadata": {
    "ExecuteTime": {
     "end_time": "2020-04-17T10:16:20.892932Z",
     "start_time": "2020-04-17T10:16:20.844702Z"
    },
    "variables": {
     "equation('[V_hist] = \\dfrac{1}{[V_u]}e^{[E_rel]}')": {}
    }
   },
   "source": [
    "{{equation('[V_hist] = \\dfrac{1}{[V_u]}e^{[E_rel]}')}}"
   ]
  },
  {
   "cell_type": "code",
   "execution_count": null,
   "metadata": {
    "ExecuteTime": {
     "end_time": "2020-04-19T09:15:21.950994Z",
     "start_time": "2020-04-19T09:15:10.343Z"
    }
   },
   "outputs": [],
   "source": [
    "import matplotlib.pyplot as plt\n",
    "\n",
    "_, axis = plt.subplots(3,1,figsize=(16,8))\n",
    "for i in range(len(relative_histogram_6x8)):\n",
    "    axis[i].hist(relative_histogram_6x8[i].reshape(-1,10), 10)\n",
    "    axis[i].set_yscale('log')\n",
    "pass;"
   ]
  },
  {
   "cell_type": "code",
   "execution_count": null,
   "metadata": {
    "ExecuteTime": {
     "end_time": "2020-04-19T09:15:21.953616Z",
     "start_time": "2020-04-19T09:15:10.502Z"
    }
   },
   "outputs": [],
   "source": [
    "depth_patches = process_patches(depth, patchsize, function=np.mean)"
   ]
  },
  {
   "cell_type": "code",
   "execution_count": null,
   "metadata": {
    "ExecuteTime": {
     "end_time": "2020-04-19T09:15:21.956308Z",
     "start_time": "2020-04-19T09:15:10.657Z"
    },
    "scrolled": true
   },
   "outputs": [],
   "source": [
    "_, axis = plt.subplots(1,1,figsize=(16,8))\n",
    "\n",
    "axis.scatter(relative_depths.flatten(),relative_histogram_6x8[0].reshape())"
   ]
  }
 ],
 "metadata": {
  "kernelspec": {
   "display_name": "Python 3",
   "language": "python",
   "name": "python3"
  },
  "language_info": {
   "codemirror_mode": {
    "name": "ipython",
    "version": 3
   },
   "file_extension": ".py",
   "mimetype": "text/x-python",
   "name": "python",
   "nbconvert_exporter": "python",
   "pygments_lexer": "ipython3",
   "version": "3.7.6"
  },
  "toc": {
   "base_numbering": 1,
   "nav_menu": {},
   "number_sections": true,
   "sideBar": true,
   "skip_h1_title": false,
   "title_cell": "Table of Contents",
   "title_sidebar": "Contents",
   "toc_cell": false,
   "toc_position": {},
   "toc_section_display": true,
   "toc_window_display": false
  },
  "varInspector": {
   "cols": {
    "lenName": 16,
    "lenType": 16,
    "lenVar": "160"
   },
   "kernels_config": {
    "python": {
     "delete_cmd_postfix": "",
     "delete_cmd_prefix": "del ",
     "library": "var_list.py",
     "varRefreshCmd": "print(var_dic_list())"
    },
    "r": {
     "delete_cmd_postfix": ") ",
     "delete_cmd_prefix": "rm(",
     "library": "var_list.r",
     "varRefreshCmd": "cat(var_dic_list()) "
    }
   },
   "types_to_exclude": [
    "module",
    "function",
    "builtin_function_or_method",
    "instance",
    "_Feature"
   ],
   "window_display": false
  }
 },
 "nbformat": 4,
 "nbformat_minor": 4
}
