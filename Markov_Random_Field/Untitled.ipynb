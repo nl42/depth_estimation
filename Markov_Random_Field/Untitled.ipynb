{
 "cells": [
  {
   "cell_type": "code",
   "execution_count": 3,
   "metadata": {
    "ExecuteTime": {
     "end_time": "2020-04-19T16:02:01.998272Z",
     "start_time": "2020-04-19T16:02:01.054520Z"
    }
   },
   "outputs": [],
   "source": [
    "import dask.array as da"
   ]
  },
  {
   "cell_type": "code",
   "execution_count": 26,
   "metadata": {
    "ExecuteTime": {
     "end_time": "2020-04-19T16:19:46.272218Z",
     "start_time": "2020-04-19T16:19:46.266088Z"
    }
   },
   "outputs": [
    {
     "data": {
      "text/html": [
       "<table>\n",
       "<tr>\n",
       "<td>\n",
       "<table>\n",
       "  <thead>\n",
       "    <tr><td> </td><th> Array </th><th> Chunk </th></tr>\n",
       "  </thead>\n",
       "  <tbody>\n",
       "    <tr><th> Bytes </th><td> 78.34 MB </td> <td> 208.90 kB </td></tr>\n",
       "    <tr><th> Shape </th><td> (120, 160, 3, 5, 34) </td> <td> (24, 32, 1, 1, 34) </td></tr>\n",
       "    <tr><th> Count </th><td> 375 Tasks </td><td> 375 Chunks </td></tr>\n",
       "    <tr><th> Type </th><td> float64 </td><td> numpy.ndarray </td></tr>\n",
       "  </tbody>\n",
       "</table>\n",
       "</td>\n",
       "<td>\n",
       "<svg width=\"489\" height=\"140\" style=\"stroke:rgb(0,0,0);stroke-width:1\" >\n",
       "\n",
       "  <!-- Horizontal lines -->\n",
       "  <line x1=\"0\" y1=\"0\" x2=\"120\" y2=\"0\" style=\"stroke-width:2\" />\n",
       "  <line x1=\"0\" y1=\"18\" x2=\"120\" y2=\"18\" />\n",
       "  <line x1=\"0\" y1=\"36\" x2=\"120\" y2=\"36\" />\n",
       "  <line x1=\"0\" y1=\"54\" x2=\"120\" y2=\"54\" />\n",
       "  <line x1=\"0\" y1=\"72\" x2=\"120\" y2=\"72\" />\n",
       "  <line x1=\"0\" y1=\"90\" x2=\"120\" y2=\"90\" style=\"stroke-width:2\" />\n",
       "\n",
       "  <!-- Vertical lines -->\n",
       "  <line x1=\"0\" y1=\"0\" x2=\"0\" y2=\"90\" style=\"stroke-width:2\" />\n",
       "  <line x1=\"24\" y1=\"0\" x2=\"24\" y2=\"90\" />\n",
       "  <line x1=\"48\" y1=\"0\" x2=\"48\" y2=\"90\" />\n",
       "  <line x1=\"72\" y1=\"0\" x2=\"72\" y2=\"90\" />\n",
       "  <line x1=\"96\" y1=\"0\" x2=\"96\" y2=\"90\" />\n",
       "  <line x1=\"120\" y1=\"0\" x2=\"120\" y2=\"90\" style=\"stroke-width:2\" />\n",
       "\n",
       "  <!-- Colored Rectangle -->\n",
       "  <polygon points=\"0.000000,0.000000 120.000000,0.000000 120.000000,90.000000 0.000000,90.000000\" style=\"fill:#ECB172A0;stroke-width:0\"/>\n",
       "\n",
       "  <!-- Text -->\n",
       "  <text x=\"60.000000\" y=\"110.000000\" font-size=\"1.0rem\" font-weight=\"100\" text-anchor=\"middle\" >160</text>\n",
       "  <text x=\"140.000000\" y=\"45.000000\" font-size=\"1.0rem\" font-weight=\"100\" text-anchor=\"middle\" transform=\"rotate(-90,140.000000,45.000000)\">120</text>\n",
       "\n",
       "\n",
       "  <!-- Horizontal lines -->\n",
       "  <line x1=\"190\" y1=\"0\" x2=\"206\" y2=\"16\" style=\"stroke-width:2\" />\n",
       "  <line x1=\"190\" y1=\"6\" x2=\"206\" y2=\"23\" />\n",
       "  <line x1=\"190\" y1=\"12\" x2=\"206\" y2=\"29\" />\n",
       "  <line x1=\"190\" y1=\"18\" x2=\"206\" y2=\"35\" />\n",
       "  <line x1=\"190\" y1=\"25\" x2=\"206\" y2=\"42\" />\n",
       "  <line x1=\"190\" y1=\"31\" x2=\"206\" y2=\"48\" style=\"stroke-width:2\" />\n",
       "\n",
       "  <!-- Vertical lines -->\n",
       "  <line x1=\"190\" y1=\"0\" x2=\"190\" y2=\"31\" style=\"stroke-width:2\" />\n",
       "  <line x1=\"195\" y1=\"5\" x2=\"195\" y2=\"37\" />\n",
       "  <line x1=\"201\" y1=\"11\" x2=\"201\" y2=\"42\" />\n",
       "  <line x1=\"206\" y1=\"16\" x2=\"206\" y2=\"48\" style=\"stroke-width:2\" />\n",
       "\n",
       "  <!-- Colored Rectangle -->\n",
       "  <polygon points=\"190.000000,0.000000 206.864519,16.864519 206.864519,48.499748 190.000000,31.635229\" style=\"fill:#ECB172A0;stroke-width:0\"/>\n",
       "\n",
       "  <!-- Horizontal lines -->\n",
       "  <line x1=\"190\" y1=\"0\" x2=\"232\" y2=\"0\" style=\"stroke-width:2\" />\n",
       "  <line x1=\"195\" y1=\"5\" x2=\"237\" y2=\"5\" />\n",
       "  <line x1=\"201\" y1=\"11\" x2=\"243\" y2=\"11\" />\n",
       "  <line x1=\"206\" y1=\"16\" x2=\"249\" y2=\"16\" style=\"stroke-width:2\" />\n",
       "\n",
       "  <!-- Vertical lines -->\n",
       "  <line x1=\"190\" y1=\"0\" x2=\"206\" y2=\"16\" style=\"stroke-width:2\" />\n",
       "  <line x1=\"232\" y1=\"0\" x2=\"249\" y2=\"16\" style=\"stroke-width:2\" />\n",
       "\n",
       "  <!-- Colored Rectangle -->\n",
       "  <polygon points=\"190.000000,0.000000 232.262116,0.000000 249.126636,16.864519 206.864519,16.864519\" style=\"fill:#ECB172A0;stroke-width:0\"/>\n",
       "\n",
       "  <!-- Horizontal lines -->\n",
       "  <line x1=\"206\" y1=\"16\" x2=\"249\" y2=\"16\" style=\"stroke-width:2\" />\n",
       "  <line x1=\"206\" y1=\"23\" x2=\"249\" y2=\"23\" />\n",
       "  <line x1=\"206\" y1=\"29\" x2=\"249\" y2=\"29\" />\n",
       "  <line x1=\"206\" y1=\"35\" x2=\"249\" y2=\"35\" />\n",
       "  <line x1=\"206\" y1=\"42\" x2=\"249\" y2=\"42\" />\n",
       "  <line x1=\"206\" y1=\"48\" x2=\"249\" y2=\"48\" style=\"stroke-width:2\" />\n",
       "\n",
       "  <!-- Vertical lines -->\n",
       "  <line x1=\"206\" y1=\"16\" x2=\"206\" y2=\"48\" style=\"stroke-width:2\" />\n",
       "  <line x1=\"249\" y1=\"16\" x2=\"249\" y2=\"48\" style=\"stroke-width:2\" />\n",
       "\n",
       "  <!-- Colored Rectangle -->\n",
       "  <polygon points=\"206.864519,16.864519 249.126636,16.864519 249.126636,48.499748 206.864519,48.499748\" style=\"fill:#ECB172A0;stroke-width:0\"/>\n",
       "\n",
       "  <!-- Text -->\n",
       "  <text x=\"227.995577\" y=\"68.499748\" font-size=\"1.0rem\" font-weight=\"100\" text-anchor=\"middle\" >34</text>\n",
       "  <text x=\"269.126636\" y=\"32.682134\" font-size=\"1.0rem\" font-weight=\"100\" text-anchor=\"middle\" transform=\"rotate(0,269.126636,32.682134)\">5</text>\n",
       "  <text x=\"188.432260\" y=\"60.067489\" font-size=\"1.0rem\" font-weight=\"100\" text-anchor=\"middle\" transform=\"rotate(45,188.432260,60.067489)\">3</text>\n",
       "</svg>\n",
       "</td>\n",
       "</tr>\n",
       "</table>"
      ],
      "text/plain": [
       "dask.array<zeros, shape=(120, 160, 3, 5, 34), dtype=float64, chunksize=(24, 32, 1, 1, 34), chunktype=numpy.ndarray>"
      ]
     },
     "execution_count": 26,
     "metadata": {},
     "output_type": "execute_result"
    }
   ],
   "source": [
    "da.zeros((120, 160, 3, 5, 34), chunks=(24,32,1,1,34))"
   ]
  }
 ],
 "metadata": {
  "kernelspec": {
   "display_name": "Python 3",
   "language": "python",
   "name": "python3"
  },
  "language_info": {
   "codemirror_mode": {
    "name": "ipython",
    "version": 3
   },
   "file_extension": ".py",
   "mimetype": "text/x-python",
   "name": "python",
   "nbconvert_exporter": "python",
   "pygments_lexer": "ipython3",
   "version": "3.7.6"
  },
  "toc": {
   "base_numbering": 1,
   "nav_menu": {},
   "number_sections": true,
   "sideBar": true,
   "skip_h1_title": false,
   "title_cell": "Table of Contents",
   "title_sidebar": "Contents",
   "toc_cell": false,
   "toc_position": {},
   "toc_section_display": true,
   "toc_window_display": false
  },
  "varInspector": {
   "cols": {
    "lenName": 16,
    "lenType": 16,
    "lenVar": "160"
   },
   "kernels_config": {
    "python": {
     "delete_cmd_postfix": "",
     "delete_cmd_prefix": "del ",
     "library": "var_list.py",
     "varRefreshCmd": "print(var_dic_list())"
    },
    "r": {
     "delete_cmd_postfix": ") ",
     "delete_cmd_prefix": "rm(",
     "library": "var_list.r",
     "varRefreshCmd": "cat(var_dic_list()) "
    }
   },
   "types_to_exclude": [
    "module",
    "function",
    "builtin_function_or_method",
    "instance",
    "_Feature"
   ],
   "window_display": false
  }
 },
 "nbformat": 4,
 "nbformat_minor": 4
}
