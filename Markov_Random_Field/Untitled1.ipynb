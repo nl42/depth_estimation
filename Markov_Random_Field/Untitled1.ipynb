{
 "cells": [
  {
   "cell_type": "code",
   "execution_count": 3,
   "metadata": {
    "ExecuteTime": {
     "end_time": "2020-04-19T17:08:22.792724Z",
     "start_time": "2020-04-19T17:08:22.728939Z"
    }
   },
   "outputs": [],
   "source": [
    "import dask.array as da"
   ]
  },
  {
   "cell_type": "code",
   "execution_count": 4,
   "metadata": {
    "ExecuteTime": {
     "end_time": "2020-04-19T17:09:02.301360Z",
     "start_time": "2020-04-19T17:09:02.284723Z"
    }
   },
   "outputs": [
    {
     "data": {
      "text/html": [
       "<table>\n",
       "<tr>\n",
       "<td>\n",
       "<table>\n",
       "  <thead>\n",
       "    <tr><td> </td><th> Array </th><th> Chunk </th></tr>\n",
       "  </thead>\n",
       "  <tbody>\n",
       "    <tr><th> Bytes </th><td> 470.02 MB </td> <td> 58.75 MB </td></tr>\n",
       "    <tr><th> Shape </th><td> (6, 120, 160, 3, 5, 34) </td> <td> (6, 60, 40, 3, 5, 34) </td></tr>\n",
       "    <tr><th> Count </th><td> 8 Tasks </td><td> 8 Chunks </td></tr>\n",
       "    <tr><th> Type </th><td> float64 </td><td> numpy.ndarray </td></tr>\n",
       "  </tbody>\n",
       "</table>\n",
       "</td>\n",
       "<td>\n",
       "<svg width=\"547\" height=\"159\" style=\"stroke:rgb(0,0,0);stroke-width:1\" >\n",
       "\n",
       "  <!-- Horizontal lines -->\n",
       "  <line x1=\"10\" y1=\"0\" x2=\"29\" y2=\"19\" style=\"stroke-width:2\" />\n",
       "  <line x1=\"10\" y1=\"45\" x2=\"29\" y2=\"64\" />\n",
       "  <line x1=\"10\" y1=\"90\" x2=\"29\" y2=\"109\" style=\"stroke-width:2\" />\n",
       "\n",
       "  <!-- Vertical lines -->\n",
       "  <line x1=\"10\" y1=\"0\" x2=\"10\" y2=\"90\" style=\"stroke-width:2\" />\n",
       "  <line x1=\"29\" y1=\"19\" x2=\"29\" y2=\"109\" style=\"stroke-width:2\" />\n",
       "\n",
       "  <!-- Colored Rectangle -->\n",
       "  <polygon points=\"10.000000,0.000000 29.258675,19.258675 29.258675,109.258675 10.000000,90.000000\" style=\"fill:#ECB172A0;stroke-width:0\"/>\n",
       "\n",
       "  <!-- Horizontal lines -->\n",
       "  <line x1=\"10\" y1=\"0\" x2=\"130\" y2=\"0\" style=\"stroke-width:2\" />\n",
       "  <line x1=\"29\" y1=\"19\" x2=\"149\" y2=\"19\" style=\"stroke-width:2\" />\n",
       "\n",
       "  <!-- Vertical lines -->\n",
       "  <line x1=\"10\" y1=\"0\" x2=\"29\" y2=\"19\" style=\"stroke-width:2\" />\n",
       "  <line x1=\"40\" y1=\"0\" x2=\"59\" y2=\"19\" />\n",
       "  <line x1=\"70\" y1=\"0\" x2=\"89\" y2=\"19\" />\n",
       "  <line x1=\"100\" y1=\"0\" x2=\"119\" y2=\"19\" />\n",
       "  <line x1=\"130\" y1=\"0\" x2=\"149\" y2=\"19\" style=\"stroke-width:2\" />\n",
       "\n",
       "  <!-- Colored Rectangle -->\n",
       "  <polygon points=\"10.000000,0.000000 130.000000,0.000000 149.258675,19.258675 29.258675,19.258675\" style=\"fill:#ECB172A0;stroke-width:0\"/>\n",
       "\n",
       "  <!-- Horizontal lines -->\n",
       "  <line x1=\"29\" y1=\"19\" x2=\"149\" y2=\"19\" style=\"stroke-width:2\" />\n",
       "  <line x1=\"29\" y1=\"64\" x2=\"149\" y2=\"64\" />\n",
       "  <line x1=\"29\" y1=\"109\" x2=\"149\" y2=\"109\" style=\"stroke-width:2\" />\n",
       "\n",
       "  <!-- Vertical lines -->\n",
       "  <line x1=\"29\" y1=\"19\" x2=\"29\" y2=\"109\" style=\"stroke-width:2\" />\n",
       "  <line x1=\"59\" y1=\"19\" x2=\"59\" y2=\"109\" />\n",
       "  <line x1=\"89\" y1=\"19\" x2=\"89\" y2=\"109\" />\n",
       "  <line x1=\"119\" y1=\"19\" x2=\"119\" y2=\"109\" />\n",
       "  <line x1=\"149\" y1=\"19\" x2=\"149\" y2=\"109\" style=\"stroke-width:2\" />\n",
       "\n",
       "  <!-- Colored Rectangle -->\n",
       "  <polygon points=\"29.258675,19.258675 149.258675,19.258675 149.258675,109.258675 29.258675,109.258675\" style=\"fill:#ECB172A0;stroke-width:0\"/>\n",
       "\n",
       "  <!-- Text -->\n",
       "  <text x=\"89.258675\" y=\"129.258675\" font-size=\"1.0rem\" font-weight=\"100\" text-anchor=\"middle\" >160</text>\n",
       "  <text x=\"169.258675\" y=\"64.258675\" font-size=\"1.0rem\" font-weight=\"100\" text-anchor=\"middle\" transform=\"rotate(-90,169.258675,64.258675)\">120</text>\n",
       "  <text x=\"9.629337\" y=\"119.629337\" font-size=\"1.0rem\" font-weight=\"100\" text-anchor=\"middle\" transform=\"rotate(45,9.629337,119.629337)\">6</text>\n",
       "\n",
       "\n",
       "  <!-- Horizontal lines -->\n",
       "  <line x1=\"219\" y1=\"0\" x2=\"235\" y2=\"16\" style=\"stroke-width:2\" />\n",
       "  <line x1=\"219\" y1=\"31\" x2=\"235\" y2=\"48\" style=\"stroke-width:2\" />\n",
       "\n",
       "  <!-- Vertical lines -->\n",
       "  <line x1=\"219\" y1=\"0\" x2=\"219\" y2=\"31\" style=\"stroke-width:2\" />\n",
       "  <line x1=\"235\" y1=\"16\" x2=\"235\" y2=\"48\" style=\"stroke-width:2\" />\n",
       "\n",
       "  <!-- Colored Rectangle -->\n",
       "  <polygon points=\"219.000000,0.000000 235.864519,16.864519 235.864519,48.499748 219.000000,31.635229\" style=\"fill:#ECB172A0;stroke-width:0\"/>\n",
       "\n",
       "  <!-- Horizontal lines -->\n",
       "  <line x1=\"219\" y1=\"0\" x2=\"261\" y2=\"0\" style=\"stroke-width:2\" />\n",
       "  <line x1=\"235\" y1=\"16\" x2=\"278\" y2=\"16\" style=\"stroke-width:2\" />\n",
       "\n",
       "  <!-- Vertical lines -->\n",
       "  <line x1=\"219\" y1=\"0\" x2=\"235\" y2=\"16\" style=\"stroke-width:2\" />\n",
       "  <line x1=\"261\" y1=\"0\" x2=\"278\" y2=\"16\" style=\"stroke-width:2\" />\n",
       "\n",
       "  <!-- Colored Rectangle -->\n",
       "  <polygon points=\"219.000000,0.000000 261.262116,0.000000 278.126636,16.864519 235.864519,16.864519\" style=\"fill:#ECB172A0;stroke-width:0\"/>\n",
       "\n",
       "  <!-- Horizontal lines -->\n",
       "  <line x1=\"235\" y1=\"16\" x2=\"278\" y2=\"16\" style=\"stroke-width:2\" />\n",
       "  <line x1=\"235\" y1=\"48\" x2=\"278\" y2=\"48\" style=\"stroke-width:2\" />\n",
       "\n",
       "  <!-- Vertical lines -->\n",
       "  <line x1=\"235\" y1=\"16\" x2=\"235\" y2=\"48\" style=\"stroke-width:2\" />\n",
       "  <line x1=\"278\" y1=\"16\" x2=\"278\" y2=\"48\" style=\"stroke-width:2\" />\n",
       "\n",
       "  <!-- Colored Rectangle -->\n",
       "  <polygon points=\"235.864519,16.864519 278.126636,16.864519 278.126636,48.499748 235.864519,48.499748\" style=\"fill:#ECB172A0;stroke-width:0\"/>\n",
       "\n",
       "  <!-- Text -->\n",
       "  <text x=\"256.995577\" y=\"68.499748\" font-size=\"1.0rem\" font-weight=\"100\" text-anchor=\"middle\" >34</text>\n",
       "  <text x=\"298.126636\" y=\"32.682134\" font-size=\"1.0rem\" font-weight=\"100\" text-anchor=\"middle\" transform=\"rotate(0,298.126636,32.682134)\">5</text>\n",
       "  <text x=\"217.432260\" y=\"60.067489\" font-size=\"1.0rem\" font-weight=\"100\" text-anchor=\"middle\" transform=\"rotate(45,217.432260,60.067489)\">3</text>\n",
       "</svg>\n",
       "</td>\n",
       "</tr>\n",
       "</table>"
      ],
      "text/plain": [
       "dask.array<zeros, shape=(6, 120, 160, 3, 5, 34), dtype=float64, chunksize=(6, 60, 40, 3, 5, 34), chunktype=numpy.ndarray>"
      ]
     },
     "execution_count": 4,
     "metadata": {},
     "output_type": "execute_result"
    }
   ],
   "source": [
    "da.zeros((6,120,160,3,5,34))"
   ]
  }
 ],
 "metadata": {
  "kernelspec": {
   "display_name": "Python 3",
   "language": "python",
   "name": "python3"
  },
  "language_info": {
   "codemirror_mode": {
    "name": "ipython",
    "version": 3
   },
   "file_extension": ".py",
   "mimetype": "text/x-python",
   "name": "python",
   "nbconvert_exporter": "python",
   "pygments_lexer": "ipython3",
   "version": "3.7.6"
  },
  "toc": {
   "base_numbering": 1,
   "nav_menu": {},
   "number_sections": true,
   "sideBar": true,
   "skip_h1_title": false,
   "title_cell": "Table of Contents",
   "title_sidebar": "Contents",
   "toc_cell": false,
   "toc_position": {},
   "toc_section_display": true,
   "toc_window_display": false
  },
  "varInspector": {
   "cols": {
    "lenName": 16,
    "lenType": 16,
    "lenVar": "160"
   },
   "kernels_config": {
    "python": {
     "delete_cmd_postfix": "",
     "delete_cmd_prefix": "del ",
     "library": "var_list.py",
     "varRefreshCmd": "print(var_dic_list())"
    },
    "r": {
     "delete_cmd_postfix": ") ",
     "delete_cmd_prefix": "rm(",
     "library": "var_list.r",
     "varRefreshCmd": "cat(var_dic_list()) "
    }
   },
   "types_to_exclude": [
    "module",
    "function",
    "builtin_function_or_method",
    "instance",
    "_Feature"
   ],
   "window_display": false
  }
 },
 "nbformat": 4,
 "nbformat_minor": 4
}
