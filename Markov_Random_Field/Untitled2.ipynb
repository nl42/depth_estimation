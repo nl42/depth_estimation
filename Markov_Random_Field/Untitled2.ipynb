{
 "cells": [
  {
   "cell_type": "code",
   "execution_count": 1,
   "metadata": {
    "ExecuteTime": {
     "end_time": "2020-04-24T10:10:40.274952Z",
     "start_time": "2020-04-24T10:10:40.090467Z"
    }
   },
   "outputs": [],
   "source": [
    "from dask import array as da"
   ]
  },
  {
   "cell_type": "code",
   "execution_count": 21,
   "metadata": {
    "ExecuteTime": {
     "end_time": "2020-04-24T11:02:53.182440Z",
     "start_time": "2020-04-24T11:02:53.177260Z"
    }
   },
   "outputs": [
    {
     "data": {
      "text/html": [
       "<table>\n",
       "<tr>\n",
       "<td>\n",
       "<table>\n",
       "  <thead>\n",
       "    <tr><td> </td><th> Array </th><th> Chunk </th></tr>\n",
       "  </thead>\n",
       "  <tbody>\n",
       "    <tr><th> Bytes </th><td> 1.25 GB </td> <td> 83.56 MB </td></tr>\n",
       "    <tr><th> Shape </th><td> (720, 1280, 170) </td> <td> (240, 256, 170) </td></tr>\n",
       "    <tr><th> Count </th><td> 15 Tasks </td><td> 15 Chunks </td></tr>\n",
       "    <tr><th> Type </th><td> float64 </td><td> numpy.ndarray </td></tr>\n",
       "  </tbody>\n",
       "</table>\n",
       "</td>\n",
       "<td>\n",
       "<svg width=\"139\" height=\"209\" style=\"stroke:rgb(0,0,0);stroke-width:1\" >\n",
       "\n",
       "  <!-- Horizontal lines -->\n",
       "  <line x1=\"10\" y1=\"0\" x2=\"49\" y2=\"39\" style=\"stroke-width:2\" />\n",
       "  <line x1=\"10\" y1=\"24\" x2=\"49\" y2=\"63\" />\n",
       "  <line x1=\"10\" y1=\"48\" x2=\"49\" y2=\"87\" />\n",
       "  <line x1=\"10\" y1=\"72\" x2=\"49\" y2=\"111\" />\n",
       "  <line x1=\"10\" y1=\"96\" x2=\"49\" y2=\"135\" />\n",
       "  <line x1=\"10\" y1=\"120\" x2=\"49\" y2=\"159\" style=\"stroke-width:2\" />\n",
       "\n",
       "  <!-- Vertical lines -->\n",
       "  <line x1=\"10\" y1=\"0\" x2=\"10\" y2=\"120\" style=\"stroke-width:2\" />\n",
       "  <line x1=\"23\" y1=\"13\" x2=\"23\" y2=\"133\" />\n",
       "  <line x1=\"36\" y1=\"26\" x2=\"36\" y2=\"146\" />\n",
       "  <line x1=\"49\" y1=\"39\" x2=\"49\" y2=\"159\" style=\"stroke-width:2\" />\n",
       "\n",
       "  <!-- Colored Rectangle -->\n",
       "  <polygon points=\"10.000000,0.000000 49.705882,39.705882 49.705882,159.705882 10.000000,120.000000\" style=\"fill:#ECB172A0;stroke-width:0\"/>\n",
       "\n",
       "  <!-- Horizontal lines -->\n",
       "  <line x1=\"10\" y1=\"0\" x2=\"50\" y2=\"0\" style=\"stroke-width:2\" />\n",
       "  <line x1=\"23\" y1=\"13\" x2=\"63\" y2=\"13\" />\n",
       "  <line x1=\"36\" y1=\"26\" x2=\"76\" y2=\"26\" />\n",
       "  <line x1=\"49\" y1=\"39\" x2=\"89\" y2=\"39\" style=\"stroke-width:2\" />\n",
       "\n",
       "  <!-- Vertical lines -->\n",
       "  <line x1=\"10\" y1=\"0\" x2=\"49\" y2=\"39\" style=\"stroke-width:2\" />\n",
       "  <line x1=\"50\" y1=\"0\" x2=\"89\" y2=\"39\" style=\"stroke-width:2\" />\n",
       "\n",
       "  <!-- Colored Rectangle -->\n",
       "  <polygon points=\"10.000000,0.000000 50.104316,0.000000 89.810199,39.705882 49.705882,39.705882\" style=\"fill:#ECB172A0;stroke-width:0\"/>\n",
       "\n",
       "  <!-- Horizontal lines -->\n",
       "  <line x1=\"49\" y1=\"39\" x2=\"89\" y2=\"39\" style=\"stroke-width:2\" />\n",
       "  <line x1=\"49\" y1=\"63\" x2=\"89\" y2=\"63\" />\n",
       "  <line x1=\"49\" y1=\"87\" x2=\"89\" y2=\"87\" />\n",
       "  <line x1=\"49\" y1=\"111\" x2=\"89\" y2=\"111\" />\n",
       "  <line x1=\"49\" y1=\"135\" x2=\"89\" y2=\"135\" />\n",
       "  <line x1=\"49\" y1=\"159\" x2=\"89\" y2=\"159\" style=\"stroke-width:2\" />\n",
       "\n",
       "  <!-- Vertical lines -->\n",
       "  <line x1=\"49\" y1=\"39\" x2=\"49\" y2=\"159\" style=\"stroke-width:2\" />\n",
       "  <line x1=\"89\" y1=\"39\" x2=\"89\" y2=\"159\" style=\"stroke-width:2\" />\n",
       "\n",
       "  <!-- Colored Rectangle -->\n",
       "  <polygon points=\"49.705882,39.705882 89.810199,39.705882 89.810199,159.705882 49.705882,159.705882\" style=\"fill:#ECB172A0;stroke-width:0\"/>\n",
       "\n",
       "  <!-- Text -->\n",
       "  <text x=\"69.758041\" y=\"179.705882\" font-size=\"1.0rem\" font-weight=\"100\" text-anchor=\"middle\" >170</text>\n",
       "  <text x=\"109.810199\" y=\"99.705882\" font-size=\"1.0rem\" font-weight=\"100\" text-anchor=\"middle\" transform=\"rotate(-90,109.810199,99.705882)\">1280</text>\n",
       "  <text x=\"19.852941\" y=\"159.852941\" font-size=\"1.0rem\" font-weight=\"100\" text-anchor=\"middle\" transform=\"rotate(45,19.852941,159.852941)\">720</text>\n",
       "</svg>\n",
       "</td>\n",
       "</tr>\n",
       "</table>"
      ],
      "text/plain": [
       "dask.array<zeros, shape=(720, 1280, 170), dtype=float64, chunksize=(240, 256, 170), chunktype=numpy.ndarray>"
      ]
     },
     "execution_count": 21,
     "metadata": {},
     "output_type": "execute_result"
    }
   ],
   "source": [
    "da.zeros((720,1280,34*5))"
   ]
  }
 ],
 "metadata": {
  "kernelspec": {
   "display_name": "Python 3",
   "language": "python",
   "name": "python3"
  },
  "language_info": {
   "codemirror_mode": {
    "name": "ipython",
    "version": 3
   },
   "file_extension": ".py",
   "mimetype": "text/x-python",
   "name": "python",
   "nbconvert_exporter": "python",
   "pygments_lexer": "ipython3",
   "version": "3.7.6"
  },
  "toc": {
   "base_numbering": 1,
   "nav_menu": {},
   "number_sections": true,
   "sideBar": true,
   "skip_h1_title": false,
   "title_cell": "Table of Contents",
   "title_sidebar": "Contents",
   "toc_cell": false,
   "toc_position": {},
   "toc_section_display": true,
   "toc_window_display": false
  },
  "varInspector": {
   "cols": {
    "lenName": 16,
    "lenType": 16,
    "lenVar": "160"
   },
   "kernels_config": {
    "python": {
     "delete_cmd_postfix": "",
     "delete_cmd_prefix": "del ",
     "library": "var_list.py",
     "varRefreshCmd": "print(var_dic_list())"
    },
    "r": {
     "delete_cmd_postfix": ") ",
     "delete_cmd_prefix": "rm(",
     "library": "var_list.r",
     "varRefreshCmd": "cat(var_dic_list()) "
    }
   },
   "types_to_exclude": [
    "module",
    "function",
    "builtin_function_or_method",
    "instance",
    "_Feature"
   ],
   "window_display": false
  }
 },
 "nbformat": 4,
 "nbformat_minor": 4
}
